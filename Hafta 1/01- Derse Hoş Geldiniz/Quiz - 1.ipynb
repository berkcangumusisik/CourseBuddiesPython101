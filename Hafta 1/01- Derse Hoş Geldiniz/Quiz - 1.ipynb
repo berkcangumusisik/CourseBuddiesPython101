{
 "cells": [
  {
   "cell_type": "markdown",
   "id": "1d9f6584",
   "metadata": {},
   "source": [
    "## SORU 1\n",
    "Python etkileşimli modda çalışırken ve köşeli çift ayraç istemini (>>>) görüntülediğinde - Python size hangi soruyu soruyor?\n",
    "\n",
    "- Çalıştırılacak bir sonraki makine dili talimatı nedir?\n",
    "- Hangi Python betiğini(scriptini) çalıştırmamı istersiniz?\n",
    "- Hangi Python ifadesini çalıştırmamı istersiniz?\n",
    "- En sevdiğin renk ne?\n",
    "\n",
    "CEVAP : Hangi Python ifadesini çalıştırmamı istersiniz?"
   ]
  },
  {
   "cell_type": "markdown",
   "id": "748c31ee",
   "metadata": {},
   "source": [
    "# SORU 2\n",
    "Aşağıdaki program ne yazdıracak:\n",
    "\n",
    "x = 15\n",
    "x = x + 5\n",
    "print(x)\n",
    "- 20\n",
    "- 5\n",
    "- 15\n",
    "- “print x”\n",
    "- x + 5\n",
    "\n",
    "CEVAP: 20"
   ]
  },
  {
   "cell_type": "markdown",
   "id": "f44dfb34",
   "metadata": {},
   "source": [
    "# SORU 3\n",
    "Python komut dosyalarının uzantısı şu şekildedir:\n",
    "- .doc\n",
    "- .py\n",
    "- .png\n",
    "- .exe\n",
    "\n",
    "CEVAP: .py"
   ]
  },
  {
   "cell_type": "markdown",
   "id": "7d187943",
   "metadata": {},
   "source": [
    "# SORU 4\n",
    "Aşağıdaki kelimelerden hangisi Python’da anahtar kelimelerdendir?\n",
    "- machine\n",
    "- break\n",
    "- concat\n",
    "- todo\n",
    "\n",
    "CEVAP: break"
   ]
  },
  {
   "cell_type": "markdown",
   "id": "b4a0b8df",
   "metadata": {},
   "source": [
    "# SORU 5\n",
    "Python’a “good-bye” demenin doğru yolu nedir?\n",
    "- while\n",
    "- // stop\n",
    "- #EXIT\n",
    "- quit()\n",
    "\n",
    "CEVAP: quit()"
   ]
  },
  {
   "cell_type": "markdown",
   "id": "b25bef97",
   "metadata": {},
   "source": [
    "# SORU 6\n",
    "Bir bilgisayarın hangi bölümlerinden gerçekte program talimatlarını yürütür?\n",
    "- Giriş / Çıkış Cihazları\n",
    "- Ana hafıza\n",
    "- İkincil bellek\n",
    "- Merkezi işlem birimi (CPU)\n",
    "\n",
    "CEVAP:Merkezi işlem birimi (CPU)"
   ]
  },
  {
   "cell_type": "markdown",
   "id": "644d1180",
   "metadata": {},
   "source": [
    "# SORU 7\n",
    "Bu kurs bağlamında “kod” nedir?\n",
    "- II.Dünya Savaşı sırasında verileri şifrelemenin bir yolu\n",
    "- Programların tarzını yöneten bir dizi kural\n",
    "- Python özelliklerinin kilidini açmak için kullandığımız bir parola\n",
    "- Bir programlama dilinde bir dizi talimat\n",
    "\n",
    "CEVAP: Bir programlama dilinde bir dizi talimat"
   ]
  },
  {
   "cell_type": "markdown",
   "id": "17ab6493",
   "metadata": {},
   "source": [
    "# SORU 8\n",
    "Bir USB bellek, bilgisayar mimarisinin aşağıdaki bileşenlerinden hangisine bir örnektir?\n",
    "- Ana hafıza\n",
    "- İkincil bellek\n",
    "- Merkezi işlem birimi(CPU)\n",
    "- Çıkış aygıtı\n",
    "\n",
    "CEVAP : Çıkış aygıtı"
   ]
  },
  {
   "cell_type": "markdown",
   "id": "ff6e61f4",
   "metadata": {},
   "source": [
    "# SORU 9\n",
    "Programlama sırasında “Syntax Error” (Sözdizimi hatası) ile karşılaştıysak bu ne anlama gelir?\n",
    "- Bilgisayar aşırı ısınıyor ve sadece soğumasına izin vermenizi istiyor\n",
    "- Bilgisayarın yazılımının yükseltilmesi gerekiyor\n",
    "- Bilgisayar konumunuzu bulmak için GPS kullandı ve şehrinizdeki herkesten nefret ediyor\n",
    "- Bilgisayar girdiğiniz ifadeyi anlamadı\n",
    "\n",
    "CEVAP: Bilgisayar girdiğiniz ifadeyi anlamadı"
   ]
  },
  {
   "cell_type": "markdown",
   "id": "303d88d2",
   "metadata": {},
   "source": [
    "# SORU 10\n",
    "Aşağıdakilerden hangisi Bölüm 1’de anlatılan programlama modellerinden biri değildir ?\n",
    "- Rastgele İlerleme\n",
    "- Koşullu İlerleme\n",
    "- Tekrarlanan İlerleme\n",
    "- Sıralı İlerleme\n",
    "\n",
    "CEVAP : Rastgele İlerleme"
   ]
  },
  {
   "cell_type": "code",
   "execution_count": null,
   "id": "de3b0e22",
   "metadata": {},
   "outputs": [],
   "source": []
  }
 ],
 "metadata": {
  "kernelspec": {
   "display_name": "Python 3",
   "language": "python",
   "name": "python3"
  },
  "language_info": {
   "codemirror_mode": {
    "name": "ipython",
    "version": 3
   },
   "file_extension": ".py",
   "mimetype": "text/x-python",
   "name": "python",
   "nbconvert_exporter": "python",
   "pygments_lexer": "ipython3",
   "version": "3.8.8"
  }
 },
 "nbformat": 4,
 "nbformat_minor": 5
}
