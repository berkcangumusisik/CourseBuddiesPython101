{
 "cells": [
  {
   "cell_type": "markdown",
   "id": "eecdbc03",
   "metadata": {},
   "source": [
    "# KOŞULLU İFADELER"
   ]
  },
  {
   "cell_type": "markdown",
   "id": "2a9b5b26",
   "metadata": {},
   "source": [
    "- Uygun yolu seçerek ilerlemeyi sağlarlar.\n",
    "- Mesela bir insanın sağa, sola ya da düz gideceğini belirlemesi örnek olarak verilebilir.\n",
    "- Mantıksal operatörler argümanlarının değerini değiştirmez.\n",
    "- Bir \"if\" bloğu oluştururken, kod bloğunun çalışması için girintiyi de eklemeniz gerekir. girintiyi doğru yerleştirdiğiniz sürece kod blokları iç içe yerleştirilebilir.\n",
    "- Eğer ifade koşullardan hiçbirini karşılamıyorsa, \"else\" bloğu harekete geçer.\n",
    "- başka bir \"if\" bloğu olmadığı sürece koşullu bloklardan yalnızca biri yürütülür.\n",
    "- üst kod bloklarından biri çalıştırıldığında \"elif\" bloğu çalıştırılmaz.(\"else\" bloğu ile aynı)\n",
    "- Diğer koşullu bloklardan sonra her zaman \"else\" bloğunu koymamız gerekmez."
   ]
  },
  {
   "attachments": {
    "image.png": {
     "image/png": "[encoded data removed]"
    }
   },
   "cell_type": "markdown",
   "id": "a6fbb3c6",
   "metadata": {},
   "source": [
    "![image.png](attachment:image.png)"
   ]
  },
  {
   "cell_type": "code",
   "execution_count": null,
   "id": "57a1e91c",
   "metadata": {},
   "outputs": [],
   "source": [
    "x = int(input(\"Bir sayı giriniz:\"))\n",
    "if x < 2 :\n",
    "    print(\"Küçük\")\n",
    "elif x <10 :\n",
    "    print(\"Orta\")\n",
    "elif x <20 :\n",
    "    print(\"Büyük\")\n",
    "elif x <40 :\n",
    "    print(\"Geniş\")\n",
    "elif x <100 :\n",
    "    print(\"Kocaman\")\n",
    "else:\n",
    "    print(\"Devasa\")"
   ]
  },
  {
   "cell_type": "code",
   "execution_count": null,
   "id": "bd3eb559",
   "metadata": {},
   "outputs": [],
   "source": [
    "y = int(input(\"Bir sayı giriniz:\"))\n",
    "if y > 1:\n",
    "    print(\"1'den büyüktür.\")\n",
    "    if y < 100:\n",
    "        print(\"100'den küçüktür.\")"
   ]
  },
  {
   "cell_type": "markdown",
   "id": "285afc92",
   "metadata": {},
   "source": [
    "# TRY - EXCEPT"
   ]
  },
  {
   "cell_type": "markdown",
   "id": "f3bb9355",
   "metadata": {},
   "source": [
    "- Try Except kodunuzun bir hata (Traceback) tarafından durdurulmasını önleyebilirsiniz ve kod satırının sonuna kadar devam eder.\n",
    "- \"Try\" bloğu, geri izleme olmadığında çalışır, \"Except\" blok, geri izleme olduğunda çalışır\n",
    "- \"try\" bloğuna çalıştırmak istediğiniz kodu girmelisiniz\n",
    "- \"except\" bloğunda bir hata (Traceback) olması durumunda bir tür kod olmalıdır"
   ]
  },
  {
   "cell_type": "code",
   "execution_count": 2,
   "id": "923ad2eb",
   "metadata": {},
   "outputs": [
    {
     "name": "stdout",
     "output_type": "stream",
     "text": [
      "1. -1\n"
     ]
    }
   ],
   "source": [
    "astr = \"Hello Bob\"\n",
    "try: \n",
    "    istr = int(astr)\n",
    "except:\n",
    "    istr = -1\n",
    "    \n",
    "print(\"1.\" , istr)"
   ]
  },
  {
   "cell_type": "code",
   "execution_count": 3,
   "id": "e6fc96b6",
   "metadata": {},
   "outputs": [
    {
     "name": "stdout",
     "output_type": "stream",
     "text": [
      "2. 123\n"
     ]
    }
   ],
   "source": [
    "astr = \"123\"\n",
    "try: \n",
    "    istr = int(astr)\n",
    "except:\n",
    "    istr = -1\n",
    "    \n",
    "print(\"2.\" , istr)"
   ]
  },
  {
   "cell_type": "code",
   "execution_count": 4,
   "id": "66265635",
   "metadata": {},
   "outputs": [
    {
     "name": "stdout",
     "output_type": "stream",
     "text": [
      "Hello\n",
      "3. -1\n"
     ]
    }
   ],
   "source": [
    "astr = \"Bob\"\n",
    "try: \n",
    "    print(\"Hello\")\n",
    "    istr = int(astr)\n",
    "    print(\"There\")\n",
    "except:\n",
    "    istr = -1\n",
    "    \n",
    "print(\"3.\" , istr)"
   ]
  },
  {
   "cell_type": "code",
   "execution_count": null,
   "id": "0b93f177",
   "metadata": {},
   "outputs": [],
   "source": [
    "ravstar = int(input(\"Bir sayı giriniz:\"))\n",
    "try:\n",
    "    ival = int(ravstar)\n",
    "except:\n",
    "    ival = -1\n",
    "    \n",
    "\n",
    "if ival> 0:\n",
    "    print(\"İşlem başarılı\")\n",
    "else:\n",
    "    print(\"Bir sayı giriniz\")"
   ]
  },
  {
   "cell_type": "code",
   "execution_count": 7,
   "id": "ffb4668a",
   "metadata": {},
   "outputs": [
    {
     "name": "stdout",
     "output_type": "stream",
     "text": [
      "Below 2\n"
     ]
    }
   ],
   "source": []
  },
  {
   "cell_type": "code",
   "execution_count": null,
   "id": "b2247f5b",
   "metadata": {},
   "outputs": [],
   "source": []
  }
 ],
 "metadata": {
  "kernelspec": {
   "display_name": "Python 3",
   "language": "python",
   "name": "python3"
  },
  "language_info": {
   "codemirror_mode": {
    "name": "ipython",
    "version": 3
   },
   "file_extension": ".py",
   "mimetype": "text/x-python",
   "name": "python",
   "nbconvert_exporter": "python",
   "pygments_lexer": "ipython3",
   "version": "3.8.8"
  }
 },
 "nbformat": 4,
 "nbformat_minor": 5
}
