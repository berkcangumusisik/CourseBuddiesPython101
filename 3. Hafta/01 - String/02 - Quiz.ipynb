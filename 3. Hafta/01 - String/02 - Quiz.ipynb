{
 "cells": [
  {
   "cell_type": "markdown",
   "id": "98737a8d",
   "metadata": {},
   "source": [
    " # SORU 1\n",
    "str1 = “Hello”\n",
    "str2 = ‘there’\n",
    "bob = str1 + str2\n",
    "print(bob)\n",
    "\n",
    "Bu Python programının çıktısı ne olur?\n",
    "-Hello\n",
    "\n",
    "-Hello\n",
    "\n",
    "there\n",
    "\n",
    "-Hello there\n",
    "\n",
    "-Hellothere\n",
    "\n",
    "CEVAP : Hellothere"
   ]
  },
  {
   "cell_type": "markdown",
   "id": "74b36d20",
   "metadata": {},
   "source": [
    "# SORU 2\n",
    "\n",
    "x = ‘40’\n",
    "y = int(x) + 2\n",
    "print(y)\n",
    "\n",
    "Bu Python programının çıktısı ne olur?\n",
    "\n",
    "- int402\n",
    "- 42\n",
    "- x2\n",
    "- 402\n",
    "\n",
    "CEVAP: 42"
   ]
  },
  {
   "cell_type": "markdown",
   "id": "c34f7183",
   "metadata": {},
   "source": [
    "# SORU 3\n",
    "x = ‘From marquard@uct.ac.za’\n",
    "\n",
    "Yukarıdaki string’ten q harfini yazdırmak için indeks işlecini [] nasıl kullanırsınız?\n",
    "\n",
    "- print(x[q])\n",
    "- print(x[-1])\n",
    "- print(x[8])\n",
    "- print(x[9])\n",
    "- print(x[7])\n",
    "\n",
    "CEVAP: print(x[8])"
   ]
  },
  {
   "cell_type": "markdown",
   "id": "1b64512e",
   "metadata": {},
   "source": [
    "# SORU 4\n",
    "x = ‘From marquard@uct.ac.za’\n",
    "\n",
    "Yukarıdaki string’ten ‘uct’ yazdırmak için [:] string dilimlemeyi nasıl kullanırsınız?\n",
    "- print(x[14+17])\n",
    "- print(x[14/17])\n",
    "- print(x[15:18])\n",
    "- print(x[15:3])\n",
    "- print(x[14:17])\n",
    "\n",
    "\n",
    "CEVAP : print(x[14:17])"
   ]
  },
  {
   "cell_type": "markdown",
   "id": "fb116694",
   "metadata": {},
   "source": [
    "# SORU 5\n",
    "for letter in ‘banana’ :\n",
    "    \n",
    "    print(letter)\n",
    "\n",
    "Yukarıdaki Python kodundaki yineleme değişkeni nedir?\n",
    "- ‘banana’\n",
    "- in\n",
    "- letter\n",
    "- for\n",
    "- print\n",
    "\n",
    "CEVAP: letter"
   ]
  },
  {
   "cell_type": "markdown",
   "id": "054fa06b",
   "metadata": {},
   "source": [
    "# SORU 6\n",
    "print(len(‘banana’)*7)\n",
    "\n",
    "Yukarıdaki Python kodu ne yazdırır?\n",
    "\n",
    "- banana7\n",
    "- 0\n",
    "- 42\n",
    "- bananabananabananabananabananabananabanana\n",
    "\n",
    "CEVAP : 42"
   ]
  },
  {
   "cell_type": "markdown",
   "id": "68188e37",
   "metadata": {},
   "source": [
    "# SORU 7\n",
    "greet = ‘Hello Bob’\n",
    "\n",
    "Python’da yukarıdaki değişkeni tamamen büyük harflerle nasıl yazdırırsınız?\n",
    "\n",
    "- print(greet.upper())\n",
    "- int i=0;\n",
    "char c;\n",
    "while (greet[i]){\n",
    "c=greet[i];\n",
    "putchar(toupper(c));\n",
    "i++;\n",
    "}\n",
    "- puts(greet.ucase);\n",
    "- print(upper(greet))\n",
    "\n",
    "CEVAP: print(greet.upper())"
   ]
  },
  {
   "cell_type": "markdown",
   "id": "5259fab9",
   "metadata": {},
   "source": [
    "#SORU 8\n",
    "Aşağıdakilerden hangisi Python’da geçerli bir string fonksiyonu değildir ?\n",
    "- shout()\n",
    "- split()\n",
    "- join()\n",
    "- startswith()\n",
    "\n",
    "CEVAP : shout()"
   ]
  },
  {
   "cell_type": "markdown",
   "id": "5c9c57a7",
   "metadata": {},
   "source": [
    "# SORU 9\n",
    "data = ‘From stephen.marquard@uct.ac.za Sat Jan 5 09:14:16 2008’\n",
    "pos = data.find(‘.’)\n",
    "print(data[pos:pos+3])\n",
    "\n",
    "Yukarıdaki Python kodu ne yazdıracak?\n",
    "- Sat\n",
    "- uct\n",
    "- mar\n",
    "- .ma\n",
    "\n",
    "CEVAP: .ma"
   ]
  },
  {
   "cell_type": "markdown",
   "id": "04edec86",
   "metadata": {},
   "source": [
    "# SORU 10\n",
    "Aşağıdaki dize yöntemlerinden hangisi bir stringin hem başındaki hem de sonundaki beyaz boşluğu kaldırır?\n",
    "split()\n",
    "\n",
    "\n",
    "strip()\n",
    "\n",
    "\n",
    "wsrem()\n",
    "\n",
    "\n",
    "strtrunc()"
   ]
  }
 ],
 "metadata": {
  "kernelspec": {
   "display_name": "Python 3",
   "language": "python",
   "name": "python3"
  },
  "language_info": {
   "codemirror_mode": {
    "name": "ipython",
    "version": 3
   },
   "file_extension": ".py",
   "mimetype": "text/x-python",
   "name": "python",
   "nbconvert_exporter": "python",
   "pygments_lexer": "ipython3",
   "version": "3.8.8"
  }
 },
 "nbformat": 4,
 "nbformat_minor": 5
}
