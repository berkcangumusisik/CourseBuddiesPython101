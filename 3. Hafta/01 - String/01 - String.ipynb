{
 "cells": [
  {
   "cell_type": "markdown",
   "id": "a52f9db8",
   "metadata": {},
   "source": [
    "# STRING (METİNSEL İFADELER)\n",
    "- ```+``` işareti metinsel ifadeleri birleştirmeyi sağlar.\n",
    "- Bir karakter dizisidir.\n",
    "- Ya tek tırnak ya da çift tırnak içinde yazılırlar.\n",
    "- Bir dize sayıları içerse de yine de string ifadedir.\n"
   ]
  },
  {
   "cell_type": "code",
   "execution_count": 1,
   "id": "ad7a1f06",
   "metadata": {},
   "outputs": [
    {
     "name": "stdout",
     "output_type": "stream",
     "text": [
      "Hello There\n"
     ]
    }
   ],
   "source": [
    "str1 = \"Hello\"\n",
    "str2 = \"There\"\n",
    "bob = str1 + \" \" + str2\n",
    "print(bob)"
   ]
  },
  {
   "cell_type": "code",
   "execution_count": 2,
   "id": "a1f8990a",
   "metadata": {},
   "outputs": [
    {
     "name": "stdout",
     "output_type": "stream",
     "text": [
      "124\n"
     ]
    }
   ],
   "source": [
    "str3 = \"123\"\n",
    "x = int(str3) + 1\n",
    "print(x)\n",
    "# str3 += 1 (string ile integer toplanamaz.)"
   ]
  },
  {
   "cell_type": "markdown",
   "id": "59a88e85",
   "metadata": {},
   "source": [
    "- Verileri dizeleri kullanarak okumayı ve ardından verileri ihtiyaç duyduğumuz şekilde ayrıştırmayı seviyor.\n",
    "- input bizden string ifade alır."
   ]
  },
  {
   "cell_type": "code",
   "execution_count": 3,
   "id": "b74e3053",
   "metadata": {},
   "outputs": [
    {
     "name": "stdout",
     "output_type": "stream",
     "text": [
      "Adınızı giriniz:Berkcan\n",
      "Berkcan\n"
     ]
    }
   ],
   "source": [
    "name = input(\"Adınızı giriniz:\")\n",
    "print(name)"
   ]
  },
  {
   "cell_type": "code",
   "execution_count": 4,
   "id": "308e18ba",
   "metadata": {},
   "outputs": [
    {
     "name": "stdout",
     "output_type": "stream",
     "text": [
      "Elma sayısını giriniz:10\n",
      "0\n"
     ]
    }
   ],
   "source": [
    "apple = input(\"Elma sayısını giriniz:\")\n",
    "a = int(apple) - 10\n",
    "print(a)"
   ]
  },
  {
   "cell_type": "markdown",
   "id": "bf1a180e",
   "metadata": {},
   "source": [
    "- String ifadeler indexlerine ayrılabilirler.\n",
    "- String ifadelerde bir index istediğimiz zaman index 0'dan başlar."
   ]
  },
  {
   "cell_type": "code",
   "execution_count": 5,
   "id": "bf8bc6b0",
   "metadata": {},
   "outputs": [
    {
     "name": "stdout",
     "output_type": "stream",
     "text": [
      "a\n"
     ]
    }
   ],
   "source": [
    "fruit = \"banana\"\n",
    "letter = fruit[1]\n",
    "print(letter)"
   ]
  },
  {
   "cell_type": "code",
   "execution_count": 6,
   "id": "f61870dd",
   "metadata": {},
   "outputs": [
    {
     "name": "stdout",
     "output_type": "stream",
     "text": [
      "n\n"
     ]
    }
   ],
   "source": [
    "y = 3\n",
    "letter = fruit[y-1]\n",
    "print(letter)"
   ]
  },
  {
   "cell_type": "code",
   "execution_count": 7,
   "id": "ccd75287",
   "metadata": {},
   "outputs": [
    {
     "ename": "TypeError",
     "evalue": "'str' object is not callable",
     "output_type": "error",
     "traceback": [
      "\u001b[1;31m---------------------------------------------------------------------------\u001b[0m",
      "\u001b[1;31mTypeError\u001b[0m                                 Traceback (most recent call last)",
      "\u001b[1;32m<ipython-input-7-c5de6ffc4f99>\u001b[0m in \u001b[0;36m<module>\u001b[1;34m\u001b[0m\n\u001b[0;32m      1\u001b[0m \u001b[1;31m#olmayan index çağıralamaz. Mesela bir dizi 5 indeksi varsa 6.index çağırılamaz\u001b[0m\u001b[1;33m\u001b[0m\u001b[1;33m\u001b[0m\u001b[1;33m\u001b[0m\u001b[0m\n\u001b[1;32m----> 2\u001b[1;33m \u001b[0mprint\u001b[0m\u001b[1;33m(\u001b[0m\u001b[0mfruit\u001b[0m\u001b[1;33m(\u001b[0m\u001b[1;36m6\u001b[0m\u001b[1;33m)\u001b[0m\u001b[1;33m)\u001b[0m\u001b[1;33m\u001b[0m\u001b[1;33m\u001b[0m\u001b[0m\n\u001b[0m",
      "\u001b[1;31mTypeError\u001b[0m: 'str' object is not callable"
     ]
    }
   ],
   "source": [
    "#olmayan index çağıralamaz. Mesela bir dizi 5 indeksi varsa 6.index çağırılamaz\n",
    "print(fruit(6))"
   ]
  },
  {
   "cell_type": "markdown",
   "id": "4f768034",
   "metadata": {},
   "source": [
    "## len() metodu\n",
    "- Bir string ifadenin kaç karakterden oluştuğunu verir."
   ]
  },
  {
   "cell_type": "code",
   "execution_count": 8,
   "id": "21ae6fda",
   "metadata": {},
   "outputs": [
    {
     "name": "stdout",
     "output_type": "stream",
     "text": [
      "6\n"
     ]
    }
   ],
   "source": [
    "print(len(fruit))"
   ]
  },
  {
   "cell_type": "code",
   "execution_count": 11,
   "id": "3a7d7984",
   "metadata": {},
   "outputs": [
    {
     "name": "stdout",
     "output_type": "stream",
     "text": [
      "0 b\n",
      "1 a\n",
      "2 n\n",
      "3 a\n",
      "4 n\n",
      "5 a\n"
     ]
    }
   ],
   "source": [
    "index = 0\n",
    "while index < len(fruit):\n",
    "    letter = fruit[index]\n",
    "    print(index , letter)\n",
    "    index +=1"
   ]
  },
  {
   "cell_type": "code",
   "execution_count": 12,
   "id": "13a8ded7",
   "metadata": {},
   "outputs": [
    {
     "name": "stdout",
     "output_type": "stream",
     "text": [
      "b\n",
      "a\n",
      "n\n",
      "a\n",
      "n\n",
      "a\n"
     ]
    }
   ],
   "source": [
    "for letter in fruit:\n",
    "    print(letter)"
   ]
  },
  {
   "cell_type": "code",
   "execution_count": 13,
   "id": "a2b52116",
   "metadata": {},
   "outputs": [
    {
     "name": "stdout",
     "output_type": "stream",
     "text": [
      "3\n"
     ]
    }
   ],
   "source": [
    "word = \"banana\"\n",
    "count = 0\n",
    "for let in word:\n",
    "    if let == \"a\":\n",
    "        count += 1\n",
    "print(count)"
   ]
  },
  {
   "cell_type": "markdown",
   "id": "6e369103",
   "metadata": {},
   "source": [
    "## String İfadeleri Ayırma\n",
    "- : kullanarak iki dize arasını ayırabiliriz.\n",
    "- İkinci sayı o indexe kadar verileri alır ama o index dahil değildir.\n",
    "- Birinci sayı o indexten başlayarak ikinci indexe kadar gider."
   ]
  },
  {
   "cell_type": "code",
   "execution_count": 15,
   "id": "471b3158",
   "metadata": {},
   "outputs": [
    {
     "name": "stdout",
     "output_type": "stream",
     "text": [
      "Mont\n",
      "P\n",
      "Python\n",
      "Mo\n",
      "thon\n"
     ]
    }
   ],
   "source": [
    "s = \"Monty Python\"\n",
    "print(s[0:4])\n",
    "print(s[6:7])\n",
    "print(s[6:20])\n",
    "print(s[:2])\n",
    "print(s[8:])"
   ]
  },
  {
   "cell_type": "code",
   "execution_count": 17,
   "id": "bca9f5a1",
   "metadata": {},
   "outputs": [
    {
     "name": "stdout",
     "output_type": "stream",
     "text": [
      "Hello There\n"
     ]
    }
   ],
   "source": [
    "h = \"Hello\"\n",
    "b = h + \" \" + \"There\"\n",
    "print(b)"
   ]
  },
  {
   "cell_type": "markdown",
   "id": "1a8b06b8",
   "metadata": {},
   "source": [
    "## in operatörü\n",
    "- sık sık for döngülerinde görülebilmesine rağmen başka kullanımları da vardır. Örneğin; başka bir dizgenin içinde bir dizginin bulunup bulunmadığını kontrol edebilirsiniz (listeler için aynı şey)\n"
   ]
  },
  {
   "cell_type": "code",
   "execution_count": 18,
   "id": "2082033f",
   "metadata": {},
   "outputs": [
    {
     "data": {
      "text/plain": [
       "True"
      ]
     },
     "execution_count": 18,
     "metadata": {},
     "output_type": "execute_result"
    }
   ],
   "source": [
    "\"n\" in fruit"
   ]
  },
  {
   "cell_type": "code",
   "execution_count": 19,
   "id": "fa199386",
   "metadata": {},
   "outputs": [
    {
     "data": {
      "text/plain": [
       "False"
      ]
     },
     "execution_count": 19,
     "metadata": {},
     "output_type": "execute_result"
    }
   ],
   "source": [
    "\"m\" in fruit"
   ]
  },
  {
   "cell_type": "code",
   "execution_count": 20,
   "id": "ddcff1d4",
   "metadata": {},
   "outputs": [
    {
     "data": {
      "text/plain": [
       "True"
      ]
     },
     "execution_count": 20,
     "metadata": {},
     "output_type": "execute_result"
    }
   ],
   "source": [
    "\"nan\" in fruit"
   ]
  },
  {
   "cell_type": "code",
   "execution_count": 21,
   "id": "b65f27fe",
   "metadata": {},
   "outputs": [
    {
     "name": "stdout",
     "output_type": "stream",
     "text": [
      "Harf Bulundu\n"
     ]
    }
   ],
   "source": [
    "if \"a\" in fruit:\n",
    "    print(\"Harf Bulundu\")"
   ]
  },
  {
   "cell_type": "code",
   "execution_count": 22,
   "id": "e35389db",
   "metadata": {},
   "outputs": [
    {
     "name": "stdout",
     "output_type": "stream",
     "text": [
      "All right , banana\n",
      "All right , banana\n"
     ]
    }
   ],
   "source": [
    "if word == \"banana\":\n",
    "    print(\"All right , banana\")\n",
    "if word < \"banana\":\n",
    "    print(\"Your word,\" + word + \" ,comes before banana\")\n",
    "elif word > \"banana\":\n",
    "    print(\"Your word,\" + word + \" ,comes after banana\")\n",
    "else:\n",
    "    print(\"All right , banana\")"
   ]
  },
  {
   "cell_type": "markdown",
   "id": "c84f8a9d",
   "metadata": {},
   "source": [
    "- Stringler, onlarla birçok şey yapabileceğiniz birçok metoda sahiptir. \"dir(any string)\" yazarak tüm metodları görebilir veya dökümantasyona bakabilirsiniz.\n",
    "\n",
    "\n",
    "## lower()\n",
    "- String ifadenin tüm harflerini küçültür."
   ]
  },
  {
   "cell_type": "code",
   "execution_count": 26,
   "id": "13b70201",
   "metadata": {},
   "outputs": [
    {
     "name": "stdout",
     "output_type": "stream",
     "text": [
      "hello bob\n",
      "Hello Bob\n"
     ]
    }
   ],
   "source": [
    "greet = \"Hello Bob\"\n",
    "zap = greet.lower()\n",
    "print(zap)\n",
    "print(greet)"
   ]
  },
  {
   "cell_type": "code",
   "execution_count": 25,
   "id": "31abb7af",
   "metadata": {
    "scrolled": true
   },
   "outputs": [
    {
     "name": "stdout",
     "output_type": "stream",
     "text": [
      "hi there\n"
     ]
    }
   ],
   "source": [
    "print(\"Hi There\".lower())"
   ]
  },
  {
   "cell_type": "markdown",
   "id": "f8ded788",
   "metadata": {},
   "source": [
    "## .find(string)\n",
    "- Find metodu bulunan harfin indeks numarasını verir(daha sonra bir tane daha bulunsa da ilk bulduğunun indeksini döndürür)  \n",
    "- -1 döndürürse yok demektir.\n"
   ]
  },
  {
   "cell_type": "code",
   "execution_count": 27,
   "id": "37677526",
   "metadata": {},
   "outputs": [
    {
     "name": "stdout",
     "output_type": "stream",
     "text": [
      "2\n"
     ]
    }
   ],
   "source": [
    "pos = fruit.find(\"na\")\n",
    "print(pos)"
   ]
  },
  {
   "cell_type": "code",
   "execution_count": 28,
   "id": "78cb3c72",
   "metadata": {},
   "outputs": [
    {
     "name": "stdout",
     "output_type": "stream",
     "text": [
      "-1\n"
     ]
    }
   ],
   "source": [
    "aa = fruit.find(\"z\")\n",
    "print(aa)"
   ]
  },
  {
   "cell_type": "markdown",
   "id": "fdc51e67",
   "metadata": {},
   "source": [
    "\n",
    "## upper()\n",
    "- String ifadenin tüm harflerini büyültür."
   ]
  },
  {
   "cell_type": "code",
   "execution_count": 29,
   "id": "a05a5f35",
   "metadata": {},
   "outputs": [
    {
     "name": "stdout",
     "output_type": "stream",
     "text": [
      "HELLO BOB\n"
     ]
    }
   ],
   "source": [
    "nnn = greet.upper()\n",
    "print(nnn)"
   ]
  },
  {
   "cell_type": "markdown",
   "id": "eeac5000",
   "metadata": {},
   "source": [
    "## replace(eski dize, yeni dize)\n",
    "-  Mevcut dizeyi/dizeleri belirttiğiniz yenisiyle değiştirmek için kullanılabilir "
   ]
  },
  {
   "cell_type": "code",
   "execution_count": 31,
   "id": "e5303570",
   "metadata": {},
   "outputs": [
    {
     "name": "stdout",
     "output_type": "stream",
     "text": [
      "Hello Berkcan\n"
     ]
    }
   ],
   "source": [
    "nstr = greet.replace(\"Bob\",\"Berkcan\")\n",
    "print(nstr)"
   ]
  },
  {
   "cell_type": "markdown",
   "id": "55af3443",
   "metadata": {},
   "source": [
    "## strip()\n",
    "- \".strip()\", dizedeki boşlukları başından ve sonundan kaldırır\n",
    "- \".lstrip()\" boşlukları yalnızca baştan kaldırır \n",
    "- \".rstrip()\" yalnızca sondaki boşlukları kaldırır"
   ]
  },
  {
   "cell_type": "code",
   "execution_count": 33,
   "id": "9310cf82",
   "metadata": {},
   "outputs": [
    {
     "data": {
      "text/plain": [
       "'Hello Bob          '"
      ]
     },
     "execution_count": 33,
     "metadata": {},
     "output_type": "execute_result"
    }
   ],
   "source": [
    "great = \" Hello Bob          \"\n",
    "great.lstrip()"
   ]
  },
  {
   "cell_type": "code",
   "execution_count": 34,
   "id": "ce836b15",
   "metadata": {},
   "outputs": [
    {
     "data": {
      "text/plain": [
       "' Hello Bob'"
      ]
     },
     "execution_count": 34,
     "metadata": {},
     "output_type": "execute_result"
    }
   ],
   "source": [
    "great.rstrip()"
   ]
  },
  {
   "cell_type": "code",
   "execution_count": 35,
   "id": "0f2d3bba",
   "metadata": {},
   "outputs": [
    {
     "data": {
      "text/plain": [
       "'Hello Bob'"
      ]
     },
     "execution_count": 35,
     "metadata": {},
     "output_type": "execute_result"
    }
   ],
   "source": [
    "great.strip()"
   ]
  },
  {
   "cell_type": "markdown",
   "id": "cdd08b8a",
   "metadata": {},
   "source": [
    "## starstwith()\n",
    "- \".startswith(belirtilen dize)\", belirtilen dizeyle başlayan istenen satıra bağlı olarak True veya False değerini döndürür \n"
   ]
  },
  {
   "cell_type": "code",
   "execution_count": null,
   "id": "12523def",
   "metadata": {},
   "outputs": [],
   "source": [
    "line = \"Please have a nice day\"\n",
    "line.star"
   ]
  }
 ],
 "metadata": {
  "kernelspec": {
   "display_name": "Python 3",
   "language": "python",
   "name": "python3"
  },
  "language_info": {
   "codemirror_mode": {
    "name": "ipython",
    "version": 3
   },
   "file_extension": ".py",
   "mimetype": "text/x-python",
   "name": "python",
   "nbconvert_exporter": "python",
   "pygments_lexer": "ipython3",
   "version": "3.8.8"
  }
 },
 "nbformat": 4,
 "nbformat_minor": 5
}
