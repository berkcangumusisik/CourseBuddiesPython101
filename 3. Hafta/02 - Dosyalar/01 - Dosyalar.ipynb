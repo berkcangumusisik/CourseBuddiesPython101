{
 "cells": [
  {
   "cell_type": "markdown",
   "id": "a2b9deeb",
   "metadata": {},
   "source": [
    "# Dosyalar"
   ]
  },
  {
   "cell_type": "markdown",
   "id": "004ea641",
   "metadata": {},
   "source": [
    "- Bu tür bir işlem ikincil belleğe kaydedilir (kalıcı)\n",
    "- Bir dosya ile çalışmak için öncelikle \"open(filename, mode)\" anahtar sözcüğünü kullanmanız gerekir.\n"
   ]
  },
  {
   "cell_type": "markdown",
   "id": "a80af957",
   "metadata": {},
   "source": [
    "## \"open(filename,mod)\" anahtar sözcüğü:   \n",
    "- \"open(filename, mode)\", dosyayı üzerinde işlem yapmak için kullanılabilir hale getirir (tıpkı bir metin düzenleyicideki açık seçeneği gibi)\n",
    "- bir dosyayı açtığınızda çeşitli dosya modları seçebilirsiniz\n",
    "- \"open(filename, mode)\" içinde mod argümanını boş bırakırsanız, onu okuma moduna geçirecektir\n",
    "- \"open(filename,mode)\" anahtar sözcüğünü atadıktan sonra, veri döndürmez, bunun yerine verilerle etkileşim kurmanın bir yolunu döndürür (soketler gibi)\n",
    "- istediğiniz yere \"\\n\" yazarak yeni satır alabilirsiniz\n"
   ]
  },
  {
   "cell_type": "code",
   "execution_count": 1,
   "id": "c74faf91",
   "metadata": {},
   "outputs": [
    {
     "name": "stdout",
     "output_type": "stream",
     "text": [
      "Hello\n",
      "World!\n"
     ]
    }
   ],
   "source": [
    "stuff = \"Hello\\nWorld!\"\n",
    "print(stuff)"
   ]
  },
  {
   "cell_type": "code",
   "execution_count": 4,
   "id": "32a2bbe3",
   "metadata": {},
   "outputs": [
    {
     "name": "stdout",
     "output_type": "stream",
     "text": [
      "x\n",
      "Y\n"
     ]
    },
    {
     "data": {
      "text/plain": [
       "3"
      ]
     },
     "execution_count": 4,
     "metadata": {},
     "output_type": "execute_result"
    }
   ],
   "source": [
    "z = \"x\\nY\"\n",
    "print(z)\n",
    "len(z)"
   ]
  },
  {
   "cell_type": "markdown",
   "id": "e5a6f42d",
   "metadata": {},
   "source": [
    "- \"\\n\" iki değil bir karakterdir\n",
    "- \"print()\" işlevi tamamlandıktan sonra yeni bir satır ekler ancak bunu önlemenin birkaç yolu vardır.\n",
    "- satır dizileri olarak kabul edilen \"for\" döngülerinde açılan dosyalar. Bu, döngünün o dosyadaki her satır için yineleneceği anlamına gelir.\n",
    "- \".read()\" yöntemini kullanarak tüm dosyayı okuyabilirsiniz\n",
    "- \".startswith()\" yöntemiyle, dosya içinde dolaşırken dosyanızdaki gereksiz dizeleri atabilirsiniz\n",
    "- geri izleme gerçekleştiğinde kodu çalışır durumda tutmak istemiyorsanız. Kodun sırasını durdurmak için \"quit()\" işlevini kullanabilirsiniz. Ayrıca \"try/except\" bloklarını kullanırken genellikle \"except\" bloğu içinde kullanılması tavsiye edilir."
   ]
  },
  {
   "cell_type": "code",
   "execution_count": null,
   "id": "f92b0011",
   "metadata": {},
   "outputs": [],
   "source": []
  }
 ],
 "metadata": {
  "kernelspec": {
   "display_name": "Python 3",
   "language": "python",
   "name": "python3"
  },
  "language_info": {
   "codemirror_mode": {
    "name": "ipython",
    "version": 3
   },
   "file_extension": ".py",
   "mimetype": "text/x-python",
   "name": "python",
   "nbconvert_exporter": "python",
   "pygments_lexer": "ipython3",
   "version": "3.8.8"
  }
 },
 "nbformat": 4,
 "nbformat_minor": 5
}
