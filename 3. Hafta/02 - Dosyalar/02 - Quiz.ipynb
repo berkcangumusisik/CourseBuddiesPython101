{
 "cells": [
  {
   "cell_type": "markdown",
   "id": "ad057252",
   "metadata": {},
   "source": [
    "# Soru 1\n",
    "Verilen bilgilere dayanarak, dosyalar bilgisayarın hangi kısmında saklanılır?\n",
    "- Makine Dili\n",
    "- Anakart\n",
    "- Birincil Hafıza\n",
    "- İkincil Hafıza\n",
    "\n",
    "Cevap : İkincil Hafıza"
   ]
  },
  {
   "cell_type": "markdown",
   "id": "1a190bdd",
   "metadata": {},
   "source": [
    "# Soru 2\n",
    "Başarılı bir open() fonksiyonunun dönütünde hangi bilgi bulunur?\n",
    "- Hard diskimizdeki belirli bir klasörün içindeki bütün dosyaların listesini bulundurur.\n",
    "- Seçilen dosyanın ilk 10 satırını bulundurur.\n",
    "- Dosyadan hafızaya alınıp saklanan bütün bilgileri bulundurur.\n",
    "- Dosyaya yönlendiren bir bağlantı bulundurur.\n",
    "\n",
    "Cevap :  Dosyadan hafızaya alınıp saklanan bütün bilgileri bulundurur."
   ]
  },
  {
   "cell_type": "markdown",
   "id": "cf56ebd6",
   "metadata": {},
   "source": [
    "# Soru 3\n",
    "open() fonksiyonunun 2. girdisi hangi bilgiyi alır?\n",
    "- Dosyayı okumak mı düzenlemek mi istediğimiz bilgisini.\n",
    "- Sürücünün hangi diskte yüklü bulunduğu bilgisini.\n",
    "- İstediğimiz dosyayı bulmak için, aranacak dosyaların listesini alır.\n",
    "- Dosyanın ne kadar büyük olmasını beklediğimiz bilgisini alır.\n",
    "\n",
    "Cevap : Dosyayı okumak mı düzenlemek mi istediğimiz bilgisini."
   ]
  },
  {
   "cell_type": "markdown",
   "id": "3d84154f",
   "metadata": {},
   "source": [
    "# Soru 4\n",
    "Python’da kullanıcıdan açmak için kullanılacak bir dosya adını nasıl isteriz?\n",
    "- file_input()\n",
    "- gets()\n",
    "- alert()\n",
    "- input()\n",
    "\n",
    "Cevap : input()"
   ]
  },
  {
   "cell_type": "markdown",
   "id": "d0efb933",
   "metadata": {},
   "source": [
    "# Soru 5\n",
    "Text dosyalarında(not defteri vs.) yeni satır karakterinin amacı nedir?\n",
    "- Bir satırın bitip yeni bir satırın başladığına işaret eder.\n",
    "- Dosyanın içinde rastgele hareket etme imkanı tanır\n",
    "- Dosyaları internet ağı üzerinden almak için yeni bir ağ oluşturur.\n",
    "- Birden fazla dosyayı açıp hepsini senkronize bir şekilde okumaya yarar.\n",
    "\n",
    "Cevap : Bir satırın bitip yeni bir satırın başladığına işaret eder."
   ]
  },
  {
   "cell_type": "markdown",
   "id": "02a8ce34",
   "metadata": {},
   "source": [
    "# Soru 6\n",
    "Eğer bir dosyayı bu şekilde açarsak:\n",
    "\n",
    "xfile = open(‘mbox.txt’)\n",
    "\n",
    "Dosyayı satır satır okumak için aşağıdakilerden hangisini kullanmalıyız?\n",
    "- for line in xfile:\n",
    "- while line = xfile.gets\n",
    "- while ((line = xfile.readLine()) != null) {\n",
    "- while () {\n",
    "\n",
    "Cevap : for line in xfile:"
   ]
  },
  {
   "cell_type": "markdown",
   "id": "d3cbe27a",
   "metadata": {},
   "source": [
    "# Soru 7\n",
    "Aşağıdaki Python kodunun ne yapar?\n",
    "\n",
    "fhand = open(‘mbox.txt’)\n",
    "x = 0\n",
    "for line in fhand:\n",
    "\n",
    "    x = x + 1\n",
    "\n",
    "print(x)\n",
    "\n",
    "- Remove the leading and trailing spaces from each line in mbox.txt\n",
    "‘mbox.txt’ dosyasının bütün satırlarının başındaki ve sonundaki boşlukları siler.\n",
    "- ‘mbox.txt’ dosyasının satır sayısını sayar.\n",
    "- ‘mbox.txt’ dosyasındaki satırların sırasını tersine çevirir.\n",
    "- ‘mbox.txt’ dosyasındaki satırları Büyük Harfle yazılmış hale çevirir\n",
    "\n",
    "Cevap : ‘mbox.txt’ dosyasının satır sayısını sayar."
   ]
  },
  {
   "cell_type": "markdown",
   "id": "6389a461",
   "metadata": {},
   "source": [
    "# Soru 8\n",
    "Yazdığın Python programının aşağıdaki gibi satırların arasına boşluk koyduğunu gördün.\n",
    "Hangi Python String fonksiyonunu kullanarak bu sorunu en hızlı şekilde çözebilirsin?\n",
    "\n",
    "From: stephen.marquard@uct.ac.za\n",
    "\n",
    "From: louis@media.berkeley.edu\n",
    "\n",
    "From: zqian@umich.edu\n",
    "\n",
    "From: rjlowe@iupui.edu\n",
    "\n",
    "…\n",
    "\n",
    "- ljust()\n",
    "- trim()\n",
    "- rstrip()\n",
    "- split()\n",
    "\n",
    "Cevap : rstrip()"
   ]
  },
  {
   "cell_type": "markdown",
   "id": "bf1bee49",
   "metadata": {},
   "source": [
    "# Soru 9\n",
    "\n",
    "Aşağıdaki kod kullanıcı var olmayan bir dosya adı girdiğinde hata veriyor. Bu hataya engel olup, böyle bir durumda kodun hata mesajı basmasını ne kullanarak engelleyebiliriz?\n",
    "\n",
    "fname = input(‘Enter the file name: ‘)\n",
    "fhand = open(fname)\n",
    "- on error resume next\n",
    "- begin / rescue / end\n",
    "- try / except\n",
    "- setjmp / longjmp\n",
    "\n",
    "\n",
    "Cevap : try / except"
   ]
  },
  {
   "cell_type": "markdown",
   "id": "09919733",
   "metadata": {},
   "source": [
    "# Soru 8\n",
    "Yazdığın Python programının aşağıdaki gibi satırların arasına boşluk koyduğunu gördün.\n",
    "Hangi Python String fonksiyonunu kullanarak bu sorunu en hızlı şekilde çözebilirsin?\n",
    "\n",
    "From: stephen.marquard@uct.ac.za\n",
    "\n",
    "From: louis@media.berkeley.edu\n",
    "\n",
    "From: zqian@umich.edu\n",
    "\n",
    "From: rjlowe@iupui.edu\n",
    "\n",
    "…\n",
    "\n",
    "- ljust()\n",
    "- trim()\n",
    "- rstrip()\n",
    "- split()\n",
    "Cevap : rstrip()"
   ]
  }
 ],
 "metadata": {
  "kernelspec": {
   "display_name": "Python 3",
   "language": "python",
   "name": "python3"
  },
  "language_info": {
   "codemirror_mode": {
    "name": "ipython",
    "version": 3
   },
   "file_extension": ".py",
   "mimetype": "text/x-python",
   "name": "python",
   "nbconvert_exporter": "python",
   "pygments_lexer": "ipython3",
   "version": "3.8.8"
  }
 },
 "nbformat": 4,
 "nbformat_minor": 5
}
