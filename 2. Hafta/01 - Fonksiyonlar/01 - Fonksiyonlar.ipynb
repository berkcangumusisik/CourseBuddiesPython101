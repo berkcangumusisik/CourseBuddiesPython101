{
 "cells": [
  {
   "cell_type": "markdown",
   "id": "e380a632",
   "metadata": {},
   "source": [
    "# FONKSİYONLAR"
   ]
  },
  {
   "cell_type": "markdown",
   "id": "8d14a568",
   "metadata": {},
   "source": [
    "-  Fonksiyonlar bir kodu saklamamıza ve ihtiyaç duyduğumuz zaman tekrar tekrar kullanmamıza izin verir.\n",
    "- \"def\" anahtar kelimesi temel olarak işlevler oluşturmak için kullanılır.\n",
    "- Fonksiyonların içindeki değişkenler yereldir, yani bir fonksiyonun içinde bir değişken tanımladığınızda, o değişkeni fonksiyonun dışında çağıramayız. Çünkü o değişken o fonksiyona özeldir ve gloabalde kullanılamaz.\n",
    "- def bir şeyi hatırlamaktan başka bir şey yapmaz. Kısacası aracıdır.\n",
    "- İşlevler \"işlev_adı()\" olarak çağrılabilir. Ve bir işlevi çağırmak istiyorsanız, işlevin adının sonuna parantez eklemeniz gerektiğini, aksi takdirde işlevin içindeki kodu döndürmeniz gerektiğini unutmamalıyız. İşlev adını istediğimiz şekilde verebiliriz.\n",
    "- Bir işlev çağrısı başlatıldığında kod işlemi, işlev işlemde kullanmak için bir değer döndürene kadar kısa bir süre duraklayabilir.\n",
    "- Ne zaman bir fonksiyon çağırılırsa, fonksiyonu yazdıktan sonra yapmalısınız.\n",
    "   \n",
    "   Argüman:\n",
    "   \n",
    "- işlev çağrılırken parantez içindeki işlevlere iletilen değerler (string , number, vb.) (ör. islev_adı (argüman))\n",
    "\n",
    "   Parametre:\n",
    " - fonksiyon tanımlanırken parantez içinde yazılan değişkenlerdir(Örneğin.\n",
    "            islev_adı(parametre):\n",
    "                fonksiyon kodu\n",
    ")\n",
    "- Birden fazla parametreniz/argümanınız olabilir (her biri virgülle ayrılmalıdır)"
   ]
  },
  {
   "cell_type": "code",
   "execution_count": 1,
   "id": "bc23ed45",
   "metadata": {},
   "outputs": [
    {
     "name": "stdout",
     "output_type": "stream",
     "text": [
      "Hello\n",
      "Fun\n",
      "Zip\n",
      "Hello\n",
      "Fun\n"
     ]
    }
   ],
   "source": [
    "def thing():\n",
    "    print(\"Hello\")\n",
    "    print(\"Fun\")\n",
    "thing()\n",
    "print(\"Zip\")\n",
    "thing()"
   ]
  },
  {
   "cell_type": "code",
   "execution_count": 4,
   "id": "62f378ea",
   "metadata": {},
   "outputs": [
    {
     "name": "stdout",
     "output_type": "stream",
     "text": [
      "Hello\n",
      "Hola\n",
      "Bonjour\n",
      "Merhaba\n"
     ]
    }
   ],
   "source": [
    "def great(lang):\n",
    "    if lang == \"es\":\n",
    "        print(\"Hola\")\n",
    "    elif lang == \"fr\":\n",
    "        print(\"Bonjour\")\n",
    "    elif lang == \"en\":\n",
    "        print(\"Hello\")\n",
    "    else:\n",
    "        print(\"Merhaba\")\n",
    "\n",
    "great(\"en\")\n",
    "great(\"es\")\n",
    "great(\"fr\")\n",
    "great(\"tr\")"
   ]
  },
  {
   "cell_type": "markdown",
   "id": "4cf4c252",
   "metadata": {},
   "source": [
    "# return"
   ]
  },
  {
   "cell_type": "markdown",
   "id": "941b6eb3",
   "metadata": {},
   "source": [
    "- Kodun tamamında kullanmak için işlevin kodu tamamlandıktan sonra kalan değeri (sonuç değeri) döndürür\n",
    "- \"return\" anahtar sözcüğünden sonraki kodlar yürütülmez. Bu, görmezden gelindikleri anlamına gelir\n",
    "- Hiçbir şey döndürmeyen bir işleve \"verimli olmayan işlev\" denir\n",
    "- Bir şey döndüren bir işleve \"verimli işlev\" denir"
   ]
  },
  {
   "cell_type": "code",
   "execution_count": 5,
   "id": "808df1ff",
   "metadata": {},
   "outputs": [
    {
     "name": "stdout",
     "output_type": "stream",
     "text": [
      "Hello Berkcan\n",
      "Hello Gleen\n"
     ]
    }
   ],
   "source": [
    "def greet():\n",
    "    return \"Hello\"\n",
    "\n",
    "print(greet(),\"Berkcan\")\n",
    "print(greet(),\"Gleen\")"
   ]
  },
  {
   "cell_type": "code",
   "execution_count": null,
   "id": "a906649b",
   "metadata": {},
   "outputs": [],
   "source": []
  }
 ],
 "metadata": {
  "kernelspec": {
   "display_name": "Python 3",
   "language": "python",
   "name": "python3"
  },
  "language_info": {
   "codemirror_mode": {
    "name": "ipython",
    "version": 3
   },
   "file_extension": ".py",
   "mimetype": "text/x-python",
   "name": "python",
   "nbconvert_exporter": "python",
   "pygments_lexer": "ipython3",
   "version": "3.8.8"
  }
 },
 "nbformat": 4,
 "nbformat_minor": 5
}
