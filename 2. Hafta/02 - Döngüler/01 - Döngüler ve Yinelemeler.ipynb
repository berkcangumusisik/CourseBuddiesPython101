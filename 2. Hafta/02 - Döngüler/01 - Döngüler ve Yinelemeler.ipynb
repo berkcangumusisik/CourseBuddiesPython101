{
 "cells": [
  {
   "cell_type": "markdown",
   "id": "eea034af",
   "metadata": {},
   "source": [
    "# DÖNGÜLER VE YİNELEMELER"
   ]
  },
  {
   "cell_type": "markdown",
   "id": "a6c969b9",
   "metadata": {},
   "source": [
    "- Döngüler, temel olarak, verilen koşullar karşılanana kadar devam eden tekrar eden bir süreçtir.\n",
    "- Döngünün koşulu her zaman doğruysa döngü sonsuza kadar devam eder. Hangisine \"Sonsuz döngü\" denir. Bu tür döngülere genellikle while döngüsünde rastlarız.\n",
    "- Eğer bir döngünün koşulu baştan yanlışsa, bu nedenle döngünün çalışmasına izin vermez. Sonra buna \"sıfır açma döngüsü\" denir."
   ]
  },
  {
   "cell_type": "code",
   "execution_count": 2,
   "id": "8ddb26f2",
   "metadata": {},
   "outputs": [
    {
     "name": "stdout",
     "output_type": "stream",
     "text": [
      "5\n",
      "4\n",
      "3\n",
      "2\n",
      "1\n"
     ]
    }
   ],
   "source": [
    "n = 5\n",
    "while n > 0:\n",
    "    print(n)\n",
    "    n = n -1"
   ]
  },
  {
   "cell_type": "markdown",
   "id": "40f98bf6",
   "metadata": {},
   "source": [
    "## break\n",
    "- break ifadesi bir döngü içinde çalıştırıldığında, döngüyü durdurur ve ondan dışarı atlar."
   ]
  },
  {
   "cell_type": "markdown",
   "id": "dd4be604",
   "metadata": {},
   "source": [
    " ## continue\n",
    "- continue ifadesi mevcut değeri atlar (geri döndürmez) ve döngüdeki sonraki yinelemeye gider ancak bu döngünün yürütülmesini durdurmaz"
   ]
  },
  {
   "cell_type": "code",
   "execution_count": 4,
   "id": "e9b9d46c",
   "metadata": {},
   "outputs": [
    {
     "name": "stdout",
     "output_type": "stream",
     "text": [
      ">hello there\n",
      "hello there\n",
      ">#don't print this\n",
      ">print this!\n",
      "print this!\n",
      ">done\n",
      "Done\n"
     ]
    }
   ],
   "source": [
    "while True:\n",
    "    line = input(\">\")\n",
    "    if line[0] == \"#\":\n",
    "        continue\n",
    "    if line == \"done\":\n",
    "        break\n",
    "    print(line)\n",
    "print(\"Done\")"
   ]
  },
  {
   "cell_type": "markdown",
   "id": "e9098b25",
   "metadata": {},
   "source": [
    "# FOR DÖNGÜSÜ"
   ]
  },
  {
   "cell_type": "markdown",
   "id": "27658d4a",
   "metadata": {},
   "source": [
    "- Belirsiz (bir değerler koleksiyonunda yinelenen) döngüler oluşturmanın basit bir yoludur.\n",
    "- Döngüyü yürütmek için yinelenebilir bir değer (dize, liste vb.) kullanmanız gerekir\n",
    "- Her değer için bir kez yürütülen döngünün gövdesi\n",
    "- Yineleme değişkeni, yinelenebilir koleksiyondaki tüm değerlerden geçer"
   ]
  },
  {
   "cell_type": "code",
   "execution_count": 5,
   "id": "d2caa70b",
   "metadata": {},
   "outputs": [
    {
     "name": "stdout",
     "output_type": "stream",
     "text": [
      "5\n",
      "4\n",
      "3\n",
      "2\n",
      "1\n",
      "Bitti!\n"
     ]
    }
   ],
   "source": [
    "for i in [5, 4, 3, 2, 1]:\n",
    "    print(i)\n",
    "print(\"Bitti!\")"
   ]
  },
  {
   "cell_type": "code",
   "execution_count": 6,
   "id": "975a161c",
   "metadata": {},
   "outputs": [
    {
     "name": "stdout",
     "output_type": "stream",
     "text": [
      "Mutlu Yıllar: Berkcan\n",
      "Mutlu Yıllar: Ahmet\n",
      "Mutlu Yıllar: Mehmet\n"
     ]
    }
   ],
   "source": [
    "friends = [\"Berkcan\",\"Ahmet\",\"Mehmet\"]\n",
    "for friend in friends:\n",
    "    print(\"Mutlu Yıllar:\",friend)"
   ]
  },
  {
   "cell_type": "code",
   "execution_count": 7,
   "id": "a3487a55",
   "metadata": {},
   "outputs": [
    {
     "name": "stdout",
     "output_type": "stream",
     "text": [
      "Önce\n",
      "9\n",
      "41\n",
      "12\n",
      "3\n",
      "74\n",
      "15\n",
      "Sonra\n"
     ]
    }
   ],
   "source": [
    "print(\"Önce\")\n",
    "for thing in [9,41,12,3,74,15]:\n",
    "    print(thing)\n",
    "print(\"Sonra\")"
   ]
  },
  {
   "cell_type": "markdown",
   "id": "b1c9f3bd",
   "metadata": {},
   "source": [
    "## is Operatörü\n",
    "- \"==\" operatörüne benzer ancak daha güçlü bir mantıksal operatördür.\n",
    "\n",
    "## is not Operatörü\n",
    "- \"!=\" operatörü yerine kullanılabilmesi dışında \"is\"e benzer\n",
    "- \"==\" kullanırken \"is\" kullanmamalısınız çünkü daha güçlü bir önceliğe sahip olduğundan bazı sorunlarınız olabilir. Ayrıca benzer bir şey \"değil\" için de geçerlidir\n",
    "- \"is\"/\"is not\" genellikle True, False veya None koşullu ifadeler için kullanılır"
   ]
  },
  {
   "cell_type": "code",
   "execution_count": 8,
   "id": "d3c8d79c",
   "metadata": {},
   "outputs": [
    {
     "name": "stdout",
     "output_type": "stream",
     "text": [
      "Önce  0\n",
      "9 9\n",
      "50 41\n",
      "62 12\n",
      "65 3\n",
      "139 74\n",
      "154 15\n",
      "Sonra  154\n"
     ]
    }
   ],
   "source": [
    "zork = 0\n",
    "count = 0\n",
    "print(\"Önce \", count, zork)\n",
    "for thing in [9,41,12,3,74,15]:\n",
    "    count += 1\n",
    "    zork += thing\n",
    "    print(zork ,thing)\n",
    "print(\"Sonra \", zork)"
   ]
  },
  {
   "cell_type": "code",
   "execution_count": null,
   "id": "26bfef25",
   "metadata": {},
   "outputs": [],
   "source": []
  }
 ],
 "metadata": {
  "kernelspec": {
   "display_name": "Python 3",
   "language": "python",
   "name": "python3"
  },
  "language_info": {
   "codemirror_mode": {
    "name": "ipython",
    "version": 3
   },
   "file_extension": ".py",
   "mimetype": "text/x-python",
   "name": "python",
   "nbconvert_exporter": "python",
   "pygments_lexer": "ipython3",
   "version": "3.8.8"
  }
 },
 "nbformat": 4,
 "nbformat_minor": 5
}
