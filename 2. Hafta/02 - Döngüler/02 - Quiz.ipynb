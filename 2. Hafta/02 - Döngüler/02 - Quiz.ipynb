{
 "cells": [
  {
   "cell_type": "markdown",
   "id": "190da39d",
   "metadata": {},
   "source": [
    "# SORU 1\n",
    "Bu Python döngüsünün nesi yanlıştır?\n",
    "\n",
    "n = 5\n",
    "while n > 0 :\n",
    "\n",
    "    print(n)\n",
    "\n",
    "print(‘All done’)\n",
    "\n",
    "- Bu döngü sonsuza kadar devam edecek\n",
    "- print(‘All done’) satırında dört boşluk olmalıdır\n",
    "- While ifadesinde iki nokta üst üste olmamalıdır\n",
    "- While , Python için ayrılmış bir anahtar kelime değil\n",
    "\n",
    "CEVAP: Bu döngü sonsuza kadar devam edecek"
   ]
  },
  {
   "cell_type": "markdown",
   "id": "09e4d4ed",
   "metadata": {},
   "source": [
    "# SORU 2\n",
    "Break komutu ne yapar?\n",
    "- Döngü değişkenini başlangıç değerine sıfırlar\n",
    "- Yürütülen döngüden çıkar.\n",
    "- Döngünün “en üstüne” atlar ve bir sonraki döngüyü başlatır\n",
    "- Programdan çıkar.\n",
    "\n",
    "CEVAP: Yürütülen döngüden çıkar."
   ]
  },
  {
   "cell_type": "markdown",
   "id": "718826ed",
   "metadata": {},
   "source": [
    "# SORU 3\n",
    "Continue ifadesi ne yapar?\n",
    "- Şu anda yürütülen döngüden çıkar\n",
    "- Döngü değişkenini başlangıç değerine sıfırlar\n",
    "- O an içinde bulunulan döngüyü bitirir ve bir sonraki döngüyü başlatır\n",
    "- Programdan çıkar\n",
    "\n",
    "CEVAP : O an içinde bulunulan döngüyü bitirir ve bir sonraki döngüyü başlatır"
   ]
  },
  {
   "cell_type": "markdown",
   "id": "b84aeeb0",
   "metadata": {},
   "source": [
    "# SORU 4\n",
    "Aşağıdaki Python programı neyi yazdırır?\n",
    "\n",
    "tot = 0\n",
    "for i in [5, 4, 3, 2, 1] :\n",
    "    \n",
    "    tot = tot + 1\n",
    "\n",
    "print(tot)\n",
    "- 0\n",
    "- 10\n",
    "- 15\n",
    "- 5\n",
    "\n",
    "CEVAP : 5"
   ]
  },
  {
   "cell_type": "markdown",
   "id": "448799a2",
   "metadata": {},
   "source": [
    "# SORU 5\n",
    "Aşağıdaki Python kodundaki döngü değişkeni nedir?\n",
    "\n",
    "friends = [‘Joseph’, ‘Glenn’, ‘Sally’]\n",
    "for friend in friends :\n",
    "\n",
    "    print('Happy New Year:',  friend)\n",
    "print(‘Done!’)\n",
    "- friend\n",
    "- Sally\n",
    "- Glenn\n",
    "- Joseph\n",
    "\n",
    "CEVAP: friend"
   ]
  },
  {
   "cell_type": "markdown",
   "id": "075e316f",
   "metadata": {},
   "source": [
    "# SORU 6\n",
    "Aşağıdaki Python kodunun iyi bir açıklaması nedir?\n",
    "\n",
    "zork = 0\n",
    "for thing in [9, 41, 12, 3, 74, 15] :\n",
    "\n",
    "    zork = zork + thing\n",
    "\n",
    "print(‘After’, zork)\n",
    "\n",
    "- Listedeki en küçük öğeyi bulun\n",
    "- Bir listedeki öğelerin ortalamasını hesaplayın\n",
    "- Bir listenin tüm öğelerini toplayın\n",
    "- Listedeki tüm öğeleri sayın\n",
    "\n",
    "CEVAP: Bir listenin tüm öğelerini toplayın"
   ]
  },
  {
   "cell_type": "markdown",
   "id": "9609c1c2",
   "metadata": {},
   "source": [
    "# SORU 7\n",
    "Aşağıdaki kodun çıktısı nedir?\n",
    "\n",
    "smallest_so_far = -1\n",
    "for the_num in [9, 41, 12, 3, 74, 15] :\n",
    "\n",
    "    if the_num < smallest_so_far :\n",
    "\n",
    "    smallest_so_far = the_num\n",
    "\n",
    "print(smallest_so_far)\n",
    "\n",
    "İpucu: Bu hileli bir sorudur ve çoğu kişi bu kodda bir hata olduğunu söyler - bu yüzden dikkatlice okuyun :)\n",
    "\n",
    "- -1\n",
    "- 74\n",
    "- 42\n",
    "- 3\n",
    "\n",
    "CEVAP : -1"
   ]
  },
  {
   "cell_type": "markdown",
   "id": "1182abdd",
   "metadata": {},
   "source": [
    "# SORU 8\n",
    "\n",
    "Aşağıdaki if ifadesinde kullanıldığı şekliyle ‘is’ operatörünü tanımlamak için en iyi ifade nedir?\n",
    "\n",
    "if smallest is None :\n",
    "\n",
    "    smallest = value\n",
    "\n",
    "- En küçük değişken bir string ise “None” değerini arar\n",
    "- if’e gelen girdileri karşılaştırır\n",
    "- “If” ifadesi bir Syntax(sözdizimi) hatasıdır\n",
    "- En küçük değişkenin değeri -1 ise doğrudur\n",
    "\n",
    "CEVAP : if’e gelen girdileri karşılaştırır\n"
   ]
  },
  {
   "cell_type": "markdown",
   "id": "5b1b6822",
   "metadata": {},
   "source": [
    "# SORU 9\n",
    "Python’da hangi anahtar ifade “belirsiz” bir döngünün başlangıcını gösterir?\n",
    "- break\n",
    "- for\n",
    "- indef\n",
    "- while\n",
    "- def\n",
    "\n",
    "CEVAP: while"
   ]
  },
  {
   "cell_type": "markdown",
   "id": "c863776e",
   "metadata": {},
   "source": [
    "# SORU 10\n",
    "Aşağıdaki while döngüsü kaç kez çalıştırılacak?\n",
    "\n",
    "n = 0\n",
    "while n > 0 :\n",
    "\n",
    "    print(‘Lather’)\n",
    "    print(‘Rinse’)\n",
    "\n",
    "print(‘Dry off!’)\n",
    "- 0\n",
    "- 1\n",
    "- Bu sonsuz bir döngüdür\n",
    "- 5\n",
    "\n",
    "CEVAP : 0"
   ]
  },
  {
   "cell_type": "code",
   "execution_count": null,
   "id": "d7dde305",
   "metadata": {},
   "outputs": [],
   "source": []
  }
 ],
 "metadata": {
  "kernelspec": {
   "display_name": "Python 3",
   "language": "python",
   "name": "python3"
  },
  "language_info": {
   "codemirror_mode": {
    "name": "ipython",
    "version": 3
   },
   "file_extension": ".py",
   "mimetype": "text/x-python",
   "name": "python",
   "nbconvert_exporter": "python",
   "pygments_lexer": "ipython3",
   "version": "3.8.8"
  }
 },
 "nbformat": 4,
 "nbformat_minor": 5
}
