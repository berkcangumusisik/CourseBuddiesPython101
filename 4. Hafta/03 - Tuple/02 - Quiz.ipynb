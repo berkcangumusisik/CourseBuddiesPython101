{
 "cells": [
  {
   "cell_type": "markdown",
   "id": "049b113c",
   "metadata": {},
   "source": [
    "# Question: 1\n",
    "Bir Python tuple ile Python listesi arasındaki fark nedir?\n",
    "- Tuple’lar oluşturulduktan sonra genişletilebilir ve listeler olamaz\n",
    "- Listeler tamsayı(integer)lara göre dizine alınır ve kayıtlar ise Stringlere göre dizine alınır\n",
    "- Listeler değiştirilebilir fakat tuple’lar değiştirilebilir değildir\n",
    "- Listeler öğelerin sırasını korur ve demetler sıralamayı korumaz\n",
    "\n",
    "CEVAP: Listeler değiştirilebilir fakat tuple’lar değiştirilebilir değildir"
   ]
  },
  {
   "cell_type": "markdown",
   "id": "b981565e",
   "metadata": {},
   "source": [
    "# Question: 2\n",
    "Aşağıdaki yöntemlerden hangisi hem Python listelerinde hem de Python tuple’larında çalışır?\n",
    "- reverse()\n",
    "- pop()\n",
    "- index()\n",
    "- sort()\n",
    "- append()\n",
    "\n",
    "CEVAP: index()"
   ]
  },
  {
   "cell_type": "markdown",
   "id": "de47f81d",
   "metadata": {},
   "source": [
    "# Question: 3\n",
    "Bu kod çalıştırıldıktan sonra y değişkeninde ne sonuçlanacak?\n",
    "\n",
    "x , y = 3, 4\n",
    "- 3\n",
    "- İki öğeli bir demet\n",
    "- 4\n",
    "- 3 anahtarının 4 değeriyle eşlendiği bir sözlük\n",
    "- İki maddeli bir liste\n",
    "\n",
    "CEVAP: 4"
   ]
  },
  {
   "cell_type": "markdown",
   "id": "09871192",
   "metadata": {},
   "source": [
    "# Question: 4\n",
    "Aşağıdaki Python kodunda, y değişkenine ne düşecek?\n",
    "\n",
    "x = { ‘chuck’ : 1 , ‘fred’ : 42, ‘jan’: 100}\n",
    "\n",
    "y = x.items()\n",
    "- Tuple listesi\n",
    "- Üç tam sayıya sahip bir demet\n",
    "- Dizelerin listesi\n",
    "- Tam sayıların listesi\n",
    "\n",
    "CEVAP: Tuple listesi"
   ]
  },
  {
   "cell_type": "markdown",
   "id": "79b78d55",
   "metadata": {},
   "source": [
    "# Question: 5\n",
    "Aşağıdaki Python dizisinde aşağıdaki tuplelardan hangisi x’ten büyüktür ?\n",
    "\n",
    "x = (5, 1, 3)\n",
    "if ??? > x :\n",
    "\n",
    "(…)\n",
    "- (5, 0, 300)\n",
    "- (4, 100, 200)\n",
    "- (0, 1000, 2000)\n",
    "- (6, 0, 0)\n",
    "\n",
    "CEVAP: (6,0,0)"
   ]
  },
  {
   "cell_type": "markdown",
   "id": "0dcbecf1",
   "metadata": {},
   "source": [
    "# Question: 6\n",
    "Aşağıdaki Python kodu, c’nin boş olmayan bir sözlük olduğunu varsayarsak ne başarır ?\n",
    "\n",
    "tmp = list()\n",
    "   \n",
    "   for k, v in c.items() :\n",
    "\n",
    "tmp.append( (v, k) )\n",
    "\n",
    "- Her demetin bir değer, anahtar çifti olduğu bir tuple listesi oluşturur.\n",
    "- Sözlükteki tüm değerlerin ortalamasını hesaplar\n",
    "- Sözlükteki tüm değerlerin en büyüğünü hesaplar\n",
    "- Sözlüğü anahtar değerlerine göre sıralar\n",
    "\n",
    "CEVAP: Her demetin bir değer, anahtar çifti olduğu bir tuple listesi oluşturur."
   ]
  },
  {
   "cell_type": "markdown",
   "id": "823364e0",
   "metadata": {},
   "source": [
    "# Question: 7\n",
    "Eğer değişkenimiz “data” bir Python listesiyse, onu ters sırada nasıl sıralayabiliriz?\n",
    "- data.sort(reverse=True)\n",
    "- data.sort.reverse()\n",
    "- data = sortrev(data)\n",
    "- data = data.sort(-1)\n",
    "\n",
    "CEVAP: data.sort(reverse=True)"
   ]
  },
  {
   "cell_type": "markdown",
   "id": "6b626c74",
   "metadata": {},
   "source": [
    "# Question: 8\n",
    "Aşağıdaki demeti kullanarak ‘Wed’ı nasıl yazdırırsınız?\n",
    "\n",
    "days = (‘Mon’, ‘Tue’, ‘Wed’, ‘Thu’, ‘Fri’, ‘Sat’, ‘Sun’)\n",
    "- print[days(2)]\n",
    "- print(days[1])\n",
    "- print(days{2})\n",
    "- print(days(2))\n",
    "- print(days[2])\n",
    "\n",
    "CEVAP: print(days[2])"
   ]
  },
  {
   "cell_type": "markdown",
   "id": "a84d6cc5",
   "metadata": {},
   "source": [
    "# Question: 9\n",
    "Aşağıdaki Python döngüsünde, neden iki değişken var (k ve v)?\n",
    "\n",
    "c = {‘a’:10, ‘b’:1, ‘c’:22}\n",
    "\n",
    "for k, v in c.items() :\n",
    "\n",
    "(…)\n",
    "- Çünkü her öğe için, önceki ve geçerli anahtarı istiyoruz\n",
    "- Çünkü sözlükte iki öğe var\n",
    "- Çünkü sözlüğün anahtarları Stringlerdir\n",
    "- Sözlüklerdeki items() fonskiyonu bir tuple listesi döndürdüğünden\n",
    "\n",
    "CEVAP: Sözlüklerdeki items() fonskiyonu bir tuple listesi döndürdüğünden\n",
    "\n"
   ]
  },
  {
   "cell_type": "markdown",
   "id": "b52f5007",
   "metadata": {},
   "source": [
    "# Question: 10\n",
    "Python listelerinin ve Python tuple’larının oldukça benzer olduğu göz önüne alındığında - ne zaman bir liste yerine bir Tuple kullanmayı tercih edebilirsiniz?\n",
    "- Tamsayılar(integer) yerine anahtar değerler olarak Stringleri kullanmak isteyen öğelerin listesi için\n",
    "- Yeni öğeler bulunduğunda genişletilecek öğelerin listesi için\n",
    "- Değiştirmeden kullanacağınız ve atacağınız geçici bir değişken için\n",
    "- Yerinde sıralamak istediğiniz öğelerin listesi için\n",
    "\n",
    "CEVAP: Değiştirmeden kullanacağınız ve atacağınız geçici bir değişken için"
   ]
  },
  {
   "cell_type": "code",
   "execution_count": null,
   "id": "207bc983",
   "metadata": {},
   "outputs": [],
   "source": []
  }
 ],
 "metadata": {
  "kernelspec": {
   "display_name": "Python 3",
   "language": "python",
   "name": "python3"
  },
  "language_info": {
   "codemirror_mode": {
    "name": "ipython",
    "version": 3
   },
   "file_extension": ".py",
   "mimetype": "text/x-python",
   "name": "python",
   "nbconvert_exporter": "python",
   "pygments_lexer": "ipython3",
   "version": "3.8.8"
  }
 },
 "nbformat": 4,
 "nbformat_minor": 5
}
