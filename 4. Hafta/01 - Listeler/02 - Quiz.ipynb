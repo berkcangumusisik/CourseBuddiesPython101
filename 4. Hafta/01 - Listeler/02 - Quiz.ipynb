{
 "cells": [
  {
   "cell_type": "markdown",
   "id": "2af7900c",
   "metadata": {},
   "source": [
    "# SORU 1\n",
    "“Koleksiyon” değişkenlerinin normal değişkenlerden farkı nedir?\n",
    "- Koleksiyon değişkenleri, tek bir değişkende birden çok değeri depolayabilir\n",
    "- Koleksiyon değişkenleri, çıktı akışlarını tek bir akışta birleştirir\n",
    "- Koleksiyon değişkenleri birden çok ağ belgesini bir araya getirir\n",
    "- Koleksiyon değişkenleri yalnızca tek bir değer depolayabilir\n",
    "\n",
    "CEVAP: Koleksiyon değişkenleri, tek bir değişkende birden çok değeri depolayabilir"
   ]
  },
  {
   "cell_type": "markdown",
   "id": "c7e75e5b",
   "metadata": {},
   "source": [
    "# SORU 2\n",
    "\n",
    "Bir listeyi yinelemek için bir döngü oluşturmak için kullanılan Python anahtar sözcükleri nelerdir?\n",
    "- foreach / in\n",
    "- try / except\n",
    "- for / in\n",
    "- def / return\n",
    "\n",
    "CEVAP: for / in"
   ]
  },
  {
   "cell_type": "markdown",
   "id": "409a2c9e",
   "metadata": {},
   "source": [
    "# SORU 3\n",
    "Aşağıdaki liste içindeki ‘Sally’yi nasıl yazdırırsınız?\n",
    "friends = [ ‘Joseph’, ‘Glenn’, ‘Sally’ ]\n",
    "- print(friends[2:1])\n",
    "- print(friends[‘Sally’])\n",
    "- print(friends[2])\n",
    "- print friends[3]\n",
    "\n",
    "CEVAP : print(friends[2])"
   ]
  },
  {
   "cell_type": "markdown",
   "id": "2ff75e2f",
   "metadata": {},
   "source": [
    "# SORU 4\n",
    "Aşağıdaki Python kodu ne yazdırır?\n",
    "\n",
    "fruit = ‘Banana’\n",
    "\n",
    "fruit[0] = ‘b’\n",
    "\n",
    "print(fruit)\n",
    "\n",
    "- b\n",
    "- B\n",
    "- Hiçbir şey yazdırılmaz - program bir geri bildirim hatası vererek başarısız olur\n",
    "- banana\n",
    "- [0]\n",
    "\n",
    "CEVAP: Hiçbir şey yazdırılmaz - program bir geri bildirim hatası vererek başarısız olur"
   ]
  },
  {
   "cell_type": "markdown",
   "id": "18388cba",
   "metadata": {},
   "source": [
    "# SORU 5\n",
    "Aşağıdaki Python ifadelerinden hangisi değişken verilerde saklanan bir listenin uzunluğunu yazdırır ?\n",
    "- print(data.Len)\n",
    "- print(data.Len)\n",
    "- print(length(data))\n",
    "- print(len(data))\n",
    "\n",
    "CEVAP: print(len(data))"
   ]
  },
  {
   "cell_type": "markdown",
   "id": "1a2cc173",
   "metadata": {},
   "source": [
    "# SORU 6\n",
    "\n",
    "Range () işlevini çağırdığınızda ne tür veriler üretilir ?\n",
    "x = list(range(5))\n",
    "- Bir boole (doğru / yanlış) değer\n",
    "- Kelime listesi\n",
    "- Bir string\n",
    "- Int listesi\n",
    "- Char listesi\n",
    "\n",
    "CEVAP: Int listesi"
   ]
  },
  {
   "cell_type": "markdown",
   "id": "8462f426",
   "metadata": {},
   "source": [
    "# SORU 7\n",
    "Aşağıdaki Python kodu ne yazdırır?\n",
    "\n",
    "a = [1, 2, 3]\n",
    "\n",
    "b = [4, 5, 6]\n",
    "\n",
    "c = a + b\n",
    "\n",
    "print(len(c))\n",
    "- 15\n",
    "- [4, 5, 6]\n",
    "- 6\n",
    "- [1, 2, 3]\n",
    "- [1, 2, 3, 4, 5, 6]\n",
    "\n",
    "CEVAP: 6"
   ]
  },
  {
   "cell_type": "markdown",
   "id": "6c82a68f",
   "metadata": {},
   "source": [
    "# SORU 8\n",
    "Aşağıdaki dilimleme işlemlerinden hangisi [12, 3] listesini üretecektir?\n",
    "t = [9, 41, 12, 3, 74, 15]\n",
    "- t[:]\n",
    "- t[2:4]\n",
    "- t[2:2]\n",
    "- t[12:3]\n",
    "- t[1:3]\n",
    "\n",
    "CEVAP: t[2:4]"
   ]
  },
  {
   "cell_type": "markdown",
   "id": "5a31eb73",
   "metadata": {},
   "source": [
    "# SORU 9\n",
    "Hangi liste yöntemi var olan bir listenin sonuna yeni bir öğe ekler?\n",
    "- add()\n",
    "- index()\n",
    "- append()\n",
    "- pop()\n",
    "- push()\n",
    "\n",
    "CEVAP: append()"
   ]
  },
  {
   "cell_type": "markdown",
   "id": "58c4c96d",
   "metadata": {},
   "source": [
    "# SORU 10\n",
    "Aşağıdaki Python kodu ne yazdıracak?\n",
    "\n",
    "friends = [ ‘Joseph’, ‘Glenn’, ‘Sally’ ]\n",
    "\n",
    "friends.sort()\n",
    "\n",
    "print(friends[0])\n",
    "- Sally\n",
    "- Joseph\n",
    "- friends\n",
    "- Glenn\n",
    "\n",
    "CEVAP: Glenn"
   ]
  },
  {
   "cell_type": "code",
   "execution_count": null,
   "id": "d852d824",
   "metadata": {},
   "outputs": [],
   "source": []
  }
 ],
 "metadata": {
  "kernelspec": {
   "display_name": "Python 3",
   "language": "python",
   "name": "python3"
  },
  "language_info": {
   "codemirror_mode": {
    "name": "ipython",
    "version": 3
   },
   "file_extension": ".py",
   "mimetype": "text/x-python",
   "name": "python",
   "nbconvert_exporter": "python",
   "pygments_lexer": "ipython3",
   "version": "3.8.8"
  }
 },
 "nbformat": 4,
 "nbformat_minor": 5
}
