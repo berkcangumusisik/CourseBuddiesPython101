{
 "cells": [
  {
   "cell_type": "markdown",
   "id": "06793cc2",
   "metadata": {},
   "source": [
    "# LİSTELER\n",
    "\n",
    "- Bir koleksiyona birden çok değer atamayı sağlar.\n",
    "- Listeler güzeldir. Çünkü birden çok değeri tek bir pakette taşırız.\n",
    "- Listeler [] arasına yazılır ve virgülle ayrılırlar.\n",
    "- Bir listenin ögesi başka listede de olabilir.\n",
    "- Bir liste boş olabilir.\n",
    "- Bir listenin içindeki elemanlara ulaşmak için \"listname[index]\" yap\n",
    "- Listeler değiştirilebilir."
   ]
  },
  {
   "cell_type": "code",
   "execution_count": 1,
   "id": "a45aec73",
   "metadata": {},
   "outputs": [
    {
     "name": "stdout",
     "output_type": "stream",
     "text": [
      "[1, 24, 76]\n"
     ]
    }
   ],
   "source": [
    "print([1, 24, 76])"
   ]
  },
  {
   "cell_type": "code",
   "execution_count": 2,
   "id": "bf4b772f",
   "metadata": {},
   "outputs": [
    {
     "name": "stdout",
     "output_type": "stream",
     "text": [
      "['red', 'yellow', 'blue']\n"
     ]
    }
   ],
   "source": [
    "print([\"red\",\"yellow\",\"blue\"])"
   ]
  },
  {
   "cell_type": "code",
   "execution_count": 3,
   "id": "3985c32e",
   "metadata": {},
   "outputs": [
    {
     "name": "stdout",
     "output_type": "stream",
     "text": [
      "['red', 24, 98, 6]\n"
     ]
    }
   ],
   "source": [
    "print([\"red\", 24, 98, 6])"
   ]
  },
  {
   "cell_type": "code",
   "execution_count": 4,
   "id": "2321b3a1",
   "metadata": {},
   "outputs": [
    {
     "name": "stdout",
     "output_type": "stream",
     "text": [
      "[1, [5, 6], 8]\n"
     ]
    }
   ],
   "source": [
    "print([1,[5,6],8])"
   ]
  },
  {
   "cell_type": "code",
   "execution_count": 5,
   "id": "a2dce690",
   "metadata": {},
   "outputs": [
    {
     "name": "stdout",
     "output_type": "stream",
     "text": [
      "[]\n"
     ]
    }
   ],
   "source": [
    "print([])"
   ]
  },
  {
   "cell_type": "code",
   "execution_count": 6,
   "id": "ef19a156",
   "metadata": {},
   "outputs": [
    {
     "name": "stdout",
     "output_type": "stream",
     "text": [
      "5\n",
      "4\n",
      "3\n",
      "2\n",
      "1\n",
      "Blastoff!\n"
     ]
    }
   ],
   "source": [
    "for i in [5,4,3,2,1]:\n",
    "    print(i)\n",
    "print(\"Blastoff!\")"
   ]
  },
  {
   "cell_type": "code",
   "execution_count": 7,
   "id": "1cf92feb",
   "metadata": {},
   "outputs": [
    {
     "name": "stdout",
     "output_type": "stream",
     "text": [
      "Happy New Year: Joseph\n",
      "Happy New Year: Glenn\n",
      "Happy New Year: Sally\n",
      "Done!\n"
     ]
    }
   ],
   "source": [
    "friends = [\"Joseph\", \"Glenn\",\"Sally\"]\n",
    "for friend in friends:\n",
    "    print(\"Happy New Year:\", friend)\n",
    "print(\"Done!\")"
   ]
  },
  {
   "cell_type": "code",
   "execution_count": 8,
   "id": "be3bf2fd",
   "metadata": {},
   "outputs": [
    {
     "name": "stdout",
     "output_type": "stream",
     "text": [
      "Joseph\n",
      "Glenn\n",
      "Sally\n"
     ]
    }
   ],
   "source": [
    "print(friends[0])\n",
    "print(friends[1])\n",
    "print(friends[2])"
   ]
  },
  {
   "cell_type": "code",
   "execution_count": 9,
   "id": "824e9a82",
   "metadata": {},
   "outputs": [
    {
     "name": "stdout",
     "output_type": "stream",
     "text": [
      "[2, 14, 28, 41, 63]\n"
     ]
    }
   ],
   "source": [
    "lotto = [ 2, 14, 16, 41, 63]\n",
    "lotto[2] = 28\n",
    "print(lotto)"
   ]
  },
  {
   "cell_type": "markdown",
   "id": "183714dc",
   "metadata": {},
   "source": [
    "# len(listname)\n",
    "- Listenin kaç elemandan oluştuğunu verir."
   ]
  },
  {
   "cell_type": "code",
   "execution_count": 10,
   "id": "7211207b",
   "metadata": {},
   "outputs": [
    {
     "name": "stdout",
     "output_type": "stream",
     "text": [
      "5\n"
     ]
    }
   ],
   "source": [
    "print(len(lotto))"
   ]
  },
  {
   "cell_type": "markdown",
   "id": "3724c980",
   "metadata": {},
   "source": [
    "# range(başlangıç ​​değeri, durdurma değeri, artış/azaltma değeri)\" işlevi:\n",
    "- \"range()\" işlevi, döngülerde kullanmak için iyi bir kullanımdır\n",
    "- Bir liste oluşturur, ancak durdurma değeri içermez\n",
    "- Bir başlangıç değeri belirtmezseniz '0'dan başlayacaktır.\n",
    "- Değerlerin nasıl artırılacağını veya azaltılacağını kontrol etmek için bir artış/azaltma değeri de belirtebilirsiniz.\n",
    "- Döngüleri saymak için 'range()' işlevini kullanmak yararlıdır"
   ]
  },
  {
   "cell_type": "code",
   "execution_count": 11,
   "id": "4a5432c3",
   "metadata": {},
   "outputs": [
    {
     "name": "stdout",
     "output_type": "stream",
     "text": [
      "range(0, 4)\n"
     ]
    }
   ],
   "source": [
    "print(range(4))"
   ]
  },
  {
   "cell_type": "markdown",
   "id": "2c383562",
   "metadata": {},
   "source": [
    "# Liste Birleştirme"
   ]
  },
  {
   "cell_type": "code",
   "execution_count": 12,
   "id": "04c16c61",
   "metadata": {},
   "outputs": [
    {
     "name": "stdout",
     "output_type": "stream",
     "text": [
      "[1, 2, 3, 4, 5, 6]\n"
     ]
    }
   ],
   "source": [
    "a = [1, 2, 3]\n",
    "b = [4, 5, 6]\n",
    "c = a + b\n",
    "print(c)"
   ]
  },
  {
   "cell_type": "code",
   "execution_count": 13,
   "id": "7bfaf71a",
   "metadata": {},
   "outputs": [
    {
     "name": "stdout",
     "output_type": "stream",
     "text": [
      "[2, 3]\n",
      "[1, 2]\n",
      "[1, 2, 3]\n"
     ]
    }
   ],
   "source": [
    "print(a[1:3])\n",
    "print(a[:2])\n",
    "print(a[:])"
   ]
  },
  {
   "cell_type": "markdown",
   "id": "2a539289",
   "metadata": {},
   "source": [
    "# append(Eklenecek Öge)\n",
    "- append(belirtilen öğe)\" yöntemi, belirtilen öğeyi listenin sonuna ekler\n",
    "- dizelerin aksine listeler değişkendir, yani her değişiklik yaptığınızda liste değişkenimizi etkiler\n",
    "- \"append\" yöntemini herhangi bir değişkene kaydetmemelisiniz çünkü \"append\", \"None\" değerini döndürür"
   ]
  },
  {
   "cell_type": "code",
   "execution_count": 14,
   "id": "4a890b04",
   "metadata": {},
   "outputs": [
    {
     "name": "stdout",
     "output_type": "stream",
     "text": [
      "['book', 99]\n"
     ]
    }
   ],
   "source": [
    "stuf = list()\n",
    "stuf.append(\"book\")\n",
    "stuf.append(99)\n",
    "print(stuf)"
   ]
  },
  {
   "cell_type": "markdown",
   "id": "a8569997",
   "metadata": {},
   "source": [
    "# in / not in\n",
    "- Bu operatörlerin kullanım durumlarından biri, amaçlanan listede bir değer olup olmadığını kontrol etmemize izin vermesidir.\n"
   ]
  },
  {
   "cell_type": "code",
   "execution_count": 15,
   "id": "289da1b4",
   "metadata": {},
   "outputs": [
    {
     "name": "stdout",
     "output_type": "stream",
     "text": [
      "True\n"
     ]
    }
   ],
   "source": [
    "some = [1 , 9 , 21, 10, 16]\n",
    "print(9 in some)"
   ]
  },
  {
   "cell_type": "code",
   "execution_count": 16,
   "id": "3ea1a21f",
   "metadata": {},
   "outputs": [
    {
     "name": "stdout",
     "output_type": "stream",
     "text": [
      "False\n"
     ]
    }
   ],
   "source": [
    "print(14 in some)"
   ]
  },
  {
   "cell_type": "code",
   "execution_count": 17,
   "id": "b5da28a2",
   "metadata": {},
   "outputs": [
    {
     "name": "stdout",
     "output_type": "stream",
     "text": [
      "True\n"
     ]
    }
   ],
   "source": [
    "print(20 not in some)"
   ]
  },
  {
   "cell_type": "markdown",
   "id": "00397375",
   "metadata": {},
   "source": [
    "# sort()\n",
    "- bu yöntem, liste öğelerinizi alfabetik veya sayısal olarak sırayla tutmanıza yardımcı olabilir.\n"
   ]
  },
  {
   "cell_type": "code",
   "execution_count": 18,
   "id": "238dc562",
   "metadata": {},
   "outputs": [
    {
     "name": "stdout",
     "output_type": "stream",
     "text": [
      "['Glenn', 'Joseph', 'Sally']\n"
     ]
    }
   ],
   "source": [
    "friends.sort()\n",
    "print(friends)"
   ]
  },
  {
   "cell_type": "code",
   "execution_count": 19,
   "id": "34db7246",
   "metadata": {},
   "outputs": [
    {
     "name": "stdout",
     "output_type": "stream",
     "text": [
      "[1, 9, 10, 16, 21]\n"
     ]
    }
   ],
   "source": [
    "some.sort()\n",
    "print(some)"
   ]
  },
  {
   "cell_type": "markdown",
   "id": "7b3352c6",
   "metadata": {},
   "source": [
    "# insert(index, element)\n",
    "- Listede istediğiniz bir konuma bir öğe eklemek istiyorsanız kullanılabilir\n",
    "\n",
    "# max()\n",
    "- Hem sayısal hem de sözlüksel olarak en büyük unsuru bulur\n",
    "\n",
    "# min()\n",
    "- Hem sayısal hem de sözlüksel olarak en küçük elemanı bulur\n",
    "\n",
    "# sum()\n",
    "- Listedeki sayıların toplamını alır. Ve verilen liste sayısal olmayan herhangi bir değer içeremez"
   ]
  },
  {
   "cell_type": "code",
   "execution_count": null,
   "id": "822c8b19",
   "metadata": {},
   "outputs": [],
   "source": []
  }
 ],
 "metadata": {
  "kernelspec": {
   "display_name": "Python 3",
   "language": "python",
   "name": "python3"
  },
  "language_info": {
   "codemirror_mode": {
    "name": "ipython",
    "version": 3
   },
   "file_extension": ".py",
   "mimetype": "text/x-python",
   "name": "python",
   "nbconvert_exporter": "python",
   "pygments_lexer": "ipython3",
   "version": "3.8.8"
  }
 },
 "nbformat": 4,
 "nbformat_minor": 5
}
