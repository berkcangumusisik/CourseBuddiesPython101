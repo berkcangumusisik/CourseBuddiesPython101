{
 "cells": [
  {
   "cell_type": "markdown",
   "id": "46fd9946",
   "metadata": {},
   "source": [
    "# Question: 1\n",
    "Python sözlüklerinin Python listelerinden farkı nedir?\n",
    "- Python listeleri değerleri depolayabilir, sözlükler ise anahtar ve değerlerini depolayabilir.\n",
    "- Python sözlükleri bir koleksiyondur ve listeler bir koleksiyon değildir\n",
    "- Python listeleri düzeni korur ve sözlükler düzeni sağlamaz\n",
    "- Python listeleri birden çok değeri depolar ve sözlükler tek bir değeri depolar\n",
    "\n",
    "CEVAP: Python listeleri değerleri depolayabilir, sözlükler ise anahtar ve değerlerini depolayabilir.\n",
    "\n"
   ]
  },
  {
   "cell_type": "markdown",
   "id": "21dee1ed",
   "metadata": {},
   "source": [
    "# Question: 2\n",
    "Diğer programlama dillerinde Python sözlük özelliğini tanımlamak için yaygın olarak kullanılan bir terim nedir?\n",
    "- Kapanışlar\n",
    "- Diziler\n",
    "- Lambda’lar\n",
    "- İlişkili diziler\n",
    "\n",
    "CEVAP : İlişkili diziler"
   ]
  },
  {
   "cell_type": "markdown",
   "id": "4ccae02d",
   "metadata": {},
   "source": [
    "# Question: 3\n",
    "Aşağıdaki Python kodu ne yazdırır?\n",
    "\n",
    "stuff = dict()\n",
    "\n",
    "print(stuff[‘candy’])\n",
    "- 0\n",
    "- candy\n",
    "- Program bir geri bildirim ile başarısız olur\n",
    "- -1\n",
    "\n",
    "CEVAP : Program bir geri bildirim ile başarısız olur"
   ]
  },
  {
   "cell_type": "markdown",
   "id": "df9043b5",
   "metadata": {},
   "source": [
    "# Question: 4\n",
    "Aşağıdaki Python kodu ne yazdırır?\n",
    "\n",
    "stuff = dict()\n",
    "\n",
    "print(stuff.get(‘candy’,-1))\n",
    "\n",
    "- 0\n",
    "- candy\n",
    "- Program bir geri bildirim ile başarısız olur\n",
    "- -1\n",
    "\n",
    "CEVAP :-1"
   ]
  },
  {
   "cell_type": "markdown",
   "id": "d714569d",
   "metadata": {},
   "source": [
    "# Question: 5\n",
    "Bir sözlüğe öğe eklediğinizde, bunları eklediğiniz sırada kalırlar.\n",
    "- Yanlış\n",
    "- Doğru\n",
    "\n",
    "CEVAP : Doğru"
   ]
  },
  {
   "cell_type": "markdown",
   "id": "b2e80880",
   "metadata": {},
   "source": [
    "# Question: 6\n",
    "Bir programda Python sözlüklerinin yaygın kullanımı nedir?\n",
    "-Bir dizi sayının ortalamasını hesaplama\n",
    "\n",
    "-Bir dosyadaki çeşitli dizelerin oluşumlarını sayan bir histogram oluşturma\n",
    "\n",
    "-İsim listesinin alfabetik sıraya göre sıralanması\n",
    "\n",
    "-Sınırlayıcı olarak boşluk kullanarak bir girdi satırını kelimelere bölme\n",
    "\n",
    "CEVAP: Bir dosyadaki çeşitli dizelerin oluşumlarını sayan bir histogram oluşturma\n",
    "\n"
   ]
  },
  {
   "cell_type": "markdown",
   "id": "632f277f",
   "metadata": {},
   "source": [
    "# Question: 7\n",
    "Aşağıdaki Python satırlarından hangisi counts’un bir sözlük olduğunu varsayarak aşağıdaki ifade dizisine eşdeğerdir?\n",
    "\n",
    "if key in counts:\n",
    "\n",
    "    counts[key] = counts[key] + 1\n",
    "\n",
    "else:\n",
    "\n",
    "    counts[key] = 1\n",
    "\n",
    "- counts[key] = counts.get(key,0) + 1\n",
    "- counts[key] = counts.get(key,-1) + 1\n",
    "- counts[key] = (counts[key] * 1) + 1\n",
    "- counts[key] = (key in counts) + 1\n",
    "- counts[key] = key + 1\n",
    "\n",
    "CEVAP: counts[key] = counts.get(key,0) + 1"
   ]
  },
  {
   "cell_type": "markdown",
   "id": "a461950f",
   "metadata": {},
   "source": [
    "# Question: 8\n",
    "Aşağıdaki Python’da, for döngüsü neyi yineliyor?\n",
    "\n",
    "x = dict()\n",
    "…\n",
    "\n",
    "for y in x :\n",
    "\n",
    "(…)\n",
    "\n",
    "- Sözlükteki anahtarlar(key) arasında geçiş yapar\n",
    "- Programdaki tüm sözlüklerde dolaşıyor\n",
    "- Sıfırdan sözlüğün uzunluğuna kadar olan aralıktaki tamsayılar arasında döngü yapar.\n",
    "- Sözlükteki bütün değerler arasında dolaşır.\n",
    "\n",
    "CEVAP : Sözlükteki anahtarlar(key) arasında geçiş yapar"
   ]
  },
  {
   "cell_type": "markdown",
   "id": "656ed73d",
   "metadata": {},
   "source": [
    "# Question: 9\n",
    "Sözlük nesnesindeki hangi yöntem size sözlükteki değerlerin bir listesini verir?\n",
    "- values()\n",
    "- all()\n",
    "- keys()\n",
    "- each()\n",
    "- items()\n",
    "\n",
    "\n",
    "CEVAP : values()"
   ]
  },
  {
   "cell_type": "markdown",
   "id": "4c82b4d4",
   "metadata": {},
   "source": [
    "# Question: 10\n",
    "Python sözlükleri için get () metodunun ikinci parametresinin amacı nedir ?\n",
    "- Anahtar bulunmazsa, onun yerine gelecek varsayılan bir değer sağlamak\n",
    "- İlk anahtar bulunamazsa kullanılacak alternatif bir anahtar\n",
    "- Alınacak değer\n",
    "- Geri alınacak anahtar\n",
    "\n",
    "CEVAP: Anahtar bulunmazsa, onun yerine gelecek varsayılan bir değer sağlamak"
   ]
  },
  {
   "cell_type": "code",
   "execution_count": null,
   "id": "a171611a",
   "metadata": {},
   "outputs": [],
   "source": []
  }
 ],
 "metadata": {
  "kernelspec": {
   "display_name": "Python 3",
   "language": "python",
   "name": "python3"
  },
  "language_info": {
   "codemirror_mode": {
    "name": "ipython",
    "version": 3
   },
   "file_extension": ".py",
   "mimetype": "text/x-python",
   "name": "python",
   "nbconvert_exporter": "python",
   "pygments_lexer": "ipython3",
   "version": "3.8.8"
  }
 },
 "nbformat": 4,
 "nbformat_minor": 5
}
