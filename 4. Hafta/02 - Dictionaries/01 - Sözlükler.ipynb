{
 "cells": [
  {
   "cell_type": "markdown",
   "id": "e15cba9a",
   "metadata": {},
   "source": [
    "# DICTIONARIES(SÖZLÜKLER)\n",
    "- Python'un en güçlü veri koleksiyonudur.\n",
    "- Python'da hızlı veritabanı işlemleri yapmamızı sağlar.\n",
    "- PHP'de => ilişkili diziler\n",
    "- Java => properties ya da Map ya da HashMap\n",
    "- C# ve .Net => property bag\n",
    "- Sözlükler sırasızdır, bu da dizin numaralarını onlar için işe yaramaz hale getirir (yine de kullanılabilir)\n",
    "- Sözlük içinde bir değer kullanmak istiyorsanız, o değerin anahtar adını kullanarak onu çağırmamız gerekir.\n",
    "- \"dict()\" işlevi kullanılarak boş sözlükler oluşturulabilir\n",
    "- Bir sözlüğe oluşturduktan sonra bile bir anahtar ve bir değer atayabilirsiniz. Bu da listelerin ve sözlüklerin değişken olduğunu gösterir.\n",
    "- Sözlüklerde var olmayan bir şey ararsanız geri izleme alırsınız\n",
    "- {} içerisinde tanımlanır."
   ]
  },
  {
   "cell_type": "code",
   "execution_count": 1,
   "id": "ac1df37d",
   "metadata": {},
   "outputs": [
    {
     "name": "stdout",
     "output_type": "stream",
     "text": [
      "{'money': 12, 'candy': 3, 'tissues': 74}\n",
      "3\n"
     ]
    }
   ],
   "source": [
    "purse = dict()\n",
    "purse[\"money\"] = 12\n",
    "purse[\"candy\"] = 3\n",
    "purse[\"tissues\"] = 74\n",
    "print(purse)\n",
    "print(purse[\"candy\"])"
   ]
  },
  {
   "cell_type": "code",
   "execution_count": 4,
   "id": "93224c44",
   "metadata": {},
   "outputs": [
    {
     "name": "stdout",
     "output_type": "stream",
     "text": [
      "{'money': 12, 'candy': 9, 'tissues': 74}\n"
     ]
    }
   ],
   "source": [
    "purse[\"candy\"] = purse[\"candy\"] +  2\n",
    "print(purse)"
   ]
  },
  {
   "cell_type": "code",
   "execution_count": 5,
   "id": "56326ac4",
   "metadata": {},
   "outputs": [
    {
     "name": "stdout",
     "output_type": "stream",
     "text": [
      "{'chuck': 1, 'fred': 42, 'jan': 100}\n"
     ]
    }
   ],
   "source": [
    "jjj = {\"chuck\" : 1, \"fred\": 42, \"jan\":100}\n",
    "print(jjj)"
   ]
  },
  {
   "cell_type": "code",
   "execution_count": 6,
   "id": "8448402c",
   "metadata": {},
   "outputs": [
    {
     "name": "stdout",
     "output_type": "stream",
     "text": [
      "{}\n"
     ]
    }
   ],
   "source": [
    "ooo = {}\n",
    "print(ooo)"
   ]
  },
  {
   "cell_type": "code",
   "execution_count": 8,
   "id": "0673d4cb",
   "metadata": {},
   "outputs": [
    {
     "name": "stdout",
     "output_type": "stream",
     "text": [
      "{'csev': 2, 'cwen': 2, 'zqian': 1}\n"
     ]
    }
   ],
   "source": [
    "counts = dict()\n",
    "names = [\"csev\", \"cwen\",\"csev\",\"zqian\",\"cwen\"]\n",
    "for name in names:\n",
    "    if name not in counts:\n",
    "        counts[name] = 1\n",
    "    else:\n",
    "        counts[name] = counts[name] + 1\n",
    "        \n",
    "print(counts)"
   ]
  },
  {
   "cell_type": "markdown",
   "id": "02c55bad",
   "metadata": {},
   "source": [
    "# get(anahtar adı, varsayılan değer)\n",
    "\n",
    "- Sözlükte belirtilen anahtarın olup olmadığını kontrol eder ve bu anahtarın değerini döndürür\n",
    "- Belirtilen anahtar bulunamadığında varsayılan değeri döndürür"
   ]
  },
  {
   "cell_type": "code",
   "execution_count": 9,
   "id": "1f745803",
   "metadata": {},
   "outputs": [
    {
     "name": "stdout",
     "output_type": "stream",
     "text": [
      "{'csev': 4, 'cwen': 4, 'zqian': 2}\n"
     ]
    }
   ],
   "source": [
    "for name in names:\n",
    "    counts[name] = counts.get(name,0) + 1 \n",
    "print(counts)"
   ]
  },
  {
   "cell_type": "markdown",
   "id": "c7366e61",
   "metadata": {},
   "source": [
    "# dictionary_name.keys()\n",
    "\n",
    "- Sözlüğün tüm key değerlerini döndürür.\n",
    "\n",
    "# dictionary_name.values()\n",
    "\n",
    "- Sözlüğün tüm value değerlerini döndürür.\n",
    "\n",
    "\n"
   ]
  },
  {
   "cell_type": "markdown",
   "id": "35e0b69e",
   "metadata": {},
   "source": [
    "# dictionary_name.items()\n",
    "- bu, anahtar/değer çiftlerini bir liste içinde demetler olarak döndürür\n",
    "- bu yöntemle, ilki anahtarı ve ikincisi değeri temsil eden iki değişkenli bir sözlükte dolaşabilirsiniz."
   ]
  },
  {
   "cell_type": "code",
   "execution_count": 14,
   "id": "af51d438",
   "metadata": {},
   "outputs": [
    {
     "name": "stdout",
     "output_type": "stream",
     "text": [
      "dict_keys(['a', 'c', 'e'])\n",
      "dict_values(['b', 'd', 'f'])\n"
     ]
    }
   ],
   "source": [
    "new_dict = {\"a\": \"b\", \"c\": \"d\", \"e\":\"f\"}\n",
    "print(new_dict.keys())\n",
    "print(new_dict.values())"
   ]
  },
  {
   "cell_type": "code",
   "execution_count": null,
   "id": "a0b52889",
   "metadata": {},
   "outputs": [],
   "source": []
  }
 ],
 "metadata": {
  "kernelspec": {
   "display_name": "Python 3",
   "language": "python",
   "name": "python3"
  },
  "language_info": {
   "codemirror_mode": {
    "name": "ipython",
    "version": 3
   },
   "file_extension": ".py",
   "mimetype": "text/x-python",
   "name": "python",
   "nbconvert_exporter": "python",
   "pygments_lexer": "ipython3",
   "version": "3.8.8"
  }
 },
 "nbformat": 4,
 "nbformat_minor": 5
}
