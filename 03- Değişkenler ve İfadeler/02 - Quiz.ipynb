{
 "cells": [
  {
   "cell_type": "markdown",
   "id": "f86801ef",
   "metadata": {},
   "source": [
    "# SORU 1 \n",
    "Aşağıdaki kodda,\n",
    "\n",
    "print(98.6)\n",
    "\n",
    "“98.6” nedir?\n",
    "- Bir yineleme / döngü ifadesi\n",
    "- Sabit\n",
    "- Koşullu bir ifade\n",
    "- Bir değişken\n",
    "\n",
    "CEVAP : Sabit"
   ]
  },
  {
   "cell_type": "markdown",
   "id": "db8ed601",
   "metadata": {},
   "source": [
    "# SORU 2\n",
    "Aşağıdaki kod neyi yazdırır?\n",
    "\n",
    "print(“123” + “abc”)\n",
    "- Selam Dünya\n",
    "- 123abc\n",
    "- Syntax (sözdizimi) hatası alırız, çünkü String’lerle toplama yapılamaz\n",
    "- 123+abc\n",
    "\n",
    "CEVAP: 123abc"
   ]
  },
  {
   "cell_type": "markdown",
   "id": "a395234d",
   "metadata": {},
   "source": [
    "# SORU 3\n",
    "Aşağıdakilerden hangisi kötü bir Python değişken adıdır?\n",
    "- _spam\n",
    "- 23spam\n",
    "- Spam23\n",
    "- Spam\n",
    "\n",
    "CEVAP:  _spam"
   ]
  },
  {
   "cell_type": "markdown",
   "id": "4edf9e32",
   "metadata": {},
   "source": [
    "# SORU 4\n",
    "Aşağıdakilerden hangisi Python’da kullanılabilen bir anahtar kelime değildir?\n",
    "- iterate\n",
    "- continue\n",
    "- else\n",
    "- break\n",
    "\n",
    "CEVAP: iterate"
   ]
  },
  {
   "cell_type": "markdown",
   "id": "88d7b355",
   "metadata": {},
   "source": [
    "# SORU 5 \n",
    "X değişkeninin bir tamsayı değerine başlatıldığını varsayın (örneğin, x = 3). Aşağıdaki ifade ne işe yarar?\n",
    "\n",
    "x = x + 2\n",
    "- “X” adlı bir fonksiyon oluştur ve işleve 2 değerini girer.\n",
    "- Programdan çıkar.\n",
    "- X’in mevcut değerini alır, ona iki ekler ve toplamı x’e geri koyar.\n",
    "- Bu bir sözdizimi hatası olduğu için başarısız olur.\n",
    "\n",
    "CEVAP: X’in mevcut değerini alır, ona iki ekler ve toplamı x’e geri koyar."
   ]
  },
  {
   "cell_type": "markdown",
   "id": "1210b827",
   "metadata": {},
   "source": [
    "# SORU 6\n",
    "Python’da bir matematiksel ifadenin aşağıdaki öğelerinden hangisi önce değerlendirilir?\n",
    "- Toplama +\n",
    "- Parantezler ()\n",
    "- Çarpma işlemi *\n",
    "- Çıkarma -\n",
    "\n",
    "CEVAP: Parantezler ()"
   ]
  },
  {
   "cell_type": "markdown",
   "id": "4ccc9eea",
   "metadata": {},
   "source": [
    "# SORU 7\n",
    "Aşağıdaki ifadenin değeri nedir?\n",
    "\n",
    "42 % 10\n",
    "\n",
    "İpucu - “%” kalan operatördür\n",
    "- 4210\n",
    "- 10\n",
    "- 2\n",
    "- 0.42\n",
    "\n",
    "CEVAP : 2"
   ]
  },
  {
   "cell_type": "markdown",
   "id": "8b9ad47a",
   "metadata": {},
   "source": [
    "# SORU 8\n",
    "Aşağıdaki ifade çalıştırıldıktan sonra x’in değeri ne olacaktır?\n",
    "\n",
    "x = 1 + 2 * 3 - 8 / 4\n",
    "- 4\n",
    "- 3.0\n",
    "- 15\n",
    "- 5.0\n",
    "\n",
    "CEVAP: 5.0"
   ]
  },
  {
   "cell_type": "markdown",
   "id": "df70748b",
   "metadata": {},
   "source": [
    "# SORU 9\n",
    "Aşağıdaki ifade çalıştırıldığında x’in değeri ne olacaktır?\n",
    "\n",
    "x = int(98.6)\n",
    "- 6\n",
    "- 98\n",
    "- 99\n",
    "- 100\n",
    "\n",
    "CEVAP: 98"
   ]
  },
  {
   "cell_type": "markdown",
   "id": "72c82b23",
   "metadata": {},
   "source": [
    "# SORU 10 \n",
    "Python input () işlevi ne yapar?\n",
    "- Programı duraklatır ve kullanıcıdan verileri okur.\n",
    "- Ağa bağlanır ve bir web sayfası alır.\n",
    "- Çalışan programın hafızasını okur.\n",
    "- Ekranın bir alanından ekran görüntüsü alır.\n",
    "\n",
    "CEVAP: Programı duraklatır ve kullanıcıdan verileri okur."
   ]
  },
  {
   "cell_type": "code",
   "execution_count": null,
   "id": "e604313c",
   "metadata": {},
   "outputs": [],
   "source": []
  }
 ],
 "metadata": {
  "kernelspec": {
   "display_name": "Python 3",
   "language": "python",
   "name": "python3"
  },
  "language_info": {
   "codemirror_mode": {
    "name": "ipython",
    "version": 3
   },
   "file_extension": ".py",
   "mimetype": "text/x-python",
   "name": "python",
   "nbconvert_exporter": "python",
   "pygments_lexer": "ipython3",
   "version": "3.8.8"
  }
 },
 "nbformat": 4,
 "nbformat_minor": 5
}
