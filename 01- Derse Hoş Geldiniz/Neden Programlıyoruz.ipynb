{
 "cells": [
  {
   "cell_type": "markdown",
   "id": "db9963b7",
   "metadata": {},
   "source": [
    "# NEDEN PROGRAMLIYORUZ?"
   ]
  },
  {
   "cell_type": "markdown",
   "id": "575af296",
   "metadata": {},
   "source": [
    "- Programcıların işi kullanıcıya hizmet etmektir.\n",
    "- Progrmacılar olarak bizim işimiz kullanıcı ve donanım arasında harika ve güzel şeyler inşa etmektir. Yani bir programcı olarak işinizin donanım ve son kullanıcı arasında aracılık etmektir.\n",
    "- Eğer profesyonel bir programcıysanız ve yazılım satmaya çalışıyorsak ilk yapmamaız gereken işlem hayal etmektir.\n",
    "- Uygulama mağazaları yazılım oluşturabileceğiniz, yazılımlarınızı başka insanlarla paylaşıp ,yardım edebileceğiniz yerlerdir.\n",
    "- Python bilgisayarın arka tarafındaki programcıların bilgisayarın ön tarafında yeni şeyler yapmak için kullandıkları bir araçtır.\n",
    "- Programcıların motivasyonu herkesin kullanması için bir şeyler inşa etmektir.\n",
    "- Bilgisayarlar adım adım ve talimatla çalışan cihazlar olduğu için kodlarla bu cihazları akıllı hale getiriyoruz."
   ]
  }
 ],
 "metadata": {
  "kernelspec": {
   "display_name": "Python 3",
   "language": "python",
   "name": "python3"
  },
  "language_info": {
   "codemirror_mode": {
    "name": "ipython",
    "version": 3
   },
   "file_extension": ".py",
   "mimetype": "text/x-python",
   "name": "python",
   "nbconvert_exporter": "python",
   "pygments_lexer": "ipython3",
   "version": "3.8.8"
  }
 },
 "nbformat": 4,
 "nbformat_minor": 5
}
